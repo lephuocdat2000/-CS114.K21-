{
  "nbformat": 4,
  "nbformat_minor": 0,
  "metadata": {
    "colab": {
      "name": "Untitled151.ipynb",
      "provenance": [],
      "toc_visible": true,
      "authorship_tag": "ABX9TyP8F31AeK9yDwKWlsgcl6VQ",
      "include_colab_link": true
    },
    "kernelspec": {
      "name": "python3",
      "display_name": "Python 3"
    },
    "language_info": {
      "name": "python"
    }
  },
  "cells": [
    {
      "cell_type": "markdown",
      "metadata": {
        "id": "view-in-github",
        "colab_type": "text"
      },
      "source": [
        "<a href=\"https://colab.research.google.com/github/lephuocdat2000/-CS114.K21-/blob/master/ReadCoCoDataset.ipynb\" target=\"_parent\"><img src=\"https://colab.research.google.com/assets/colab-badge.svg\" alt=\"Open In Colab\"/></a>"
      ]
    },
    {
      "cell_type": "markdown",
      "metadata": {
        "id": "8FWe-nHZTd2D"
      },
      "source": [
        "#Import COCO dataset package"
      ]
    },
    {
      "cell_type": "code",
      "metadata": {
        "colab": {
          "base_uri": "https://localhost:8080/"
        },
        "id": "LQxOZ_g_TcKy",
        "outputId": "ae066fdd-d99c-475b-a860-f4c617306be2"
      },
      "source": [
        "!pip install CoCoDataset==0.1.2"
      ],
      "execution_count": 30,
      "outputs": [
        {
          "output_type": "stream",
          "text": [
            "Requirement already satisfied: CoCoDataset==0.1.2 in /usr/local/lib/python3.7/dist-packages (0.1.2)\n",
            "Requirement already satisfied: pycocotools in /usr/local/lib/python3.7/dist-packages (from CoCoDataset==0.1.2) (2.0.2)\n",
            "Requirement already satisfied: setuptools>=18.0 in /usr/local/lib/python3.7/dist-packages (from pycocotools->CoCoDataset==0.1.2) (57.0.0)\n",
            "Requirement already satisfied: cython>=0.27.3 in /usr/local/lib/python3.7/dist-packages (from pycocotools->CoCoDataset==0.1.2) (0.29.23)\n",
            "Requirement already satisfied: matplotlib>=2.1.0 in /usr/local/lib/python3.7/dist-packages (from pycocotools->CoCoDataset==0.1.2) (3.2.2)\n",
            "Requirement already satisfied: cycler>=0.10 in /usr/local/lib/python3.7/dist-packages (from matplotlib>=2.1.0->pycocotools->CoCoDataset==0.1.2) (0.10.0)\n",
            "Requirement already satisfied: kiwisolver>=1.0.1 in /usr/local/lib/python3.7/dist-packages (from matplotlib>=2.1.0->pycocotools->CoCoDataset==0.1.2) (1.3.1)\n",
            "Requirement already satisfied: numpy>=1.11 in /usr/local/lib/python3.7/dist-packages (from matplotlib>=2.1.0->pycocotools->CoCoDataset==0.1.2) (1.19.5)\n",
            "Requirement already satisfied: pyparsing!=2.0.4,!=2.1.2,!=2.1.6,>=2.0.1 in /usr/local/lib/python3.7/dist-packages (from matplotlib>=2.1.0->pycocotools->CoCoDataset==0.1.2) (2.4.7)\n",
            "Requirement already satisfied: python-dateutil>=2.1 in /usr/local/lib/python3.7/dist-packages (from matplotlib>=2.1.0->pycocotools->CoCoDataset==0.1.2) (2.8.1)\n",
            "Requirement already satisfied: six in /usr/local/lib/python3.7/dist-packages (from cycler>=0.10->matplotlib>=2.1.0->pycocotools->CoCoDataset==0.1.2) (1.15.0)\n"
          ],
          "name": "stdout"
        }
      ]
    },
    {
      "cell_type": "code",
      "metadata": {
        "id": "-2qYGCglMJsg"
      },
      "source": [
        "from pycocotools.coco import COCO\n",
        "import requests"
      ],
      "execution_count": null,
      "outputs": []
    },
    {
      "cell_type": "markdown",
      "metadata": {
        "id": "D2-JKBo1TsuT"
      },
      "source": [
        "#Download all annotations"
      ]
    },
    {
      "cell_type": "code",
      "metadata": {
        "colab": {
          "base_uri": "https://localhost:8080/"
        },
        "id": "0pEOqsNdPaXL",
        "outputId": "f2a248df-f2c5-45c4-a6c3-8b08ee665240"
      },
      "source": [
        "!wget http://images.cocodataset.org/annotations/annotations_trainval2014.zip"
      ],
      "execution_count": 31,
      "outputs": [
        {
          "output_type": "stream",
          "text": [
            "--2021-06-06 03:32:16--  http://images.cocodataset.org/annotations/annotations_trainval2014.zip\n",
            "Resolving images.cocodataset.org (images.cocodataset.org)... 52.216.178.43\n",
            "Connecting to images.cocodataset.org (images.cocodataset.org)|52.216.178.43|:80... connected.\n",
            "HTTP request sent, awaiting response... 200 OK\n",
            "Length: 252872794 (241M) [application/zip]\n",
            "Saving to: ‘annotations_trainval2014.zip.2’\n",
            "\n",
            "annotations_trainva 100%[===================>] 241.16M  32.9MB/s    in 5.5s    \n",
            "\n",
            "2021-06-06 03:32:22 (43.8 MB/s) - ‘annotations_trainval2014.zip.2’ saved [252872794/252872794]\n",
            "\n"
          ],
          "name": "stdout"
        }
      ]
    },
    {
      "cell_type": "code",
      "metadata": {
        "colab": {
          "base_uri": "https://localhost:8080/"
        },
        "id": "YL8jB8T2MRlp",
        "outputId": "0f1b6cbf-2b35-4d1d-aefa-402db477c64b"
      },
      "source": [
        "!unzip /content/annotations_trainval2014.zip"
      ],
      "execution_count": 32,
      "outputs": [
        {
          "output_type": "stream",
          "text": [
            "Archive:  /content/annotations_trainval2014.zip\n",
            "  inflating: annotations/instances_train2014.json  \n",
            "  inflating: annotations/instances_val2014.json  \n",
            "  inflating: annotations/person_keypoints_train2014.json  \n",
            "  inflating: annotations/person_keypoints_val2014.json  \n",
            "  inflating: annotations/captions_train2014.json  \n",
            "  inflating: annotations/captions_val2014.json  \n"
          ],
          "name": "stdout"
        }
      ]
    },
    {
      "cell_type": "markdown",
      "metadata": {
        "id": "iQPOBM-uUJA1"
      },
      "source": [
        "#Download specified classname from COCO"
      ]
    },
    {
      "cell_type": "code",
      "metadata": {
        "colab": {
          "base_uri": "https://localhost:8080/"
        },
        "id": "d2L8MQ4YUDp_",
        "outputId": "3015551e-6253-48e2-ccf7-e36656db1a75"
      },
      "source": [
        "from coco_dataset import coco_dataset_download as cocod\n",
        "class_name='person'   #class name example \n",
        "images_count=100       #count of images  \n",
        "annotations_path='/content/annotations/instances_train2014.json' #path of coco dataset annotations \n",
        "#call download function \n",
        "cocod.coco_dataset_download(class_name,images_count,annotations_path)"
      ],
      "execution_count": 40,
      "outputs": [
        {
          "output_type": "stream",
          "text": [
            "loading annotations into memory...\n",
            "Done (t=15.28s)\n",
            "creating index...\n",
            "index created!\n",
            "no.of image: 1\n",
            "no.of image: 2\n",
            "no.of image: 3\n",
            "no.of image: 4\n",
            "no.of image: 5\n",
            "no.of image: 6\n",
            "no.of image: 7\n",
            "no.of image: 8\n",
            "no.of image: 9\n",
            "no.of image: 10\n",
            "no.of image: 11\n",
            "no.of image: 12\n",
            "no.of image: 13\n",
            "no.of image: 14\n",
            "no.of image: 15\n",
            "no.of image: 16\n",
            "no.of image: 17\n",
            "no.of image: 18\n",
            "no.of image: 19\n",
            "no.of image: 20\n",
            "no.of image: 21\n",
            "no.of image: 22\n",
            "no.of image: 23\n",
            "no.of image: 24\n",
            "no.of image: 25\n",
            "no.of image: 26\n",
            "no.of image: 27\n",
            "no.of image: 28\n",
            "no.of image: 29\n",
            "no.of image: 30\n",
            "no.of image: 31\n",
            "no.of image: 32\n",
            "no.of image: 33\n",
            "no.of image: 34\n",
            "no.of image: 35\n",
            "no.of image: 36\n",
            "no.of image: 37\n",
            "no.of image: 38\n",
            "no.of image: 39\n",
            "no.of image: 40\n",
            "no.of image: 41\n",
            "no.of image: 42\n",
            "no.of image: 43\n",
            "no.of image: 44\n",
            "no.of image: 45\n",
            "no.of image: 46\n",
            "no.of image: 47\n",
            "no.of image: 48\n",
            "no.of image: 49\n",
            "no.of image: 50\n",
            "no.of image: 51\n",
            "no.of image: 52\n",
            "no.of image: 53\n",
            "no.of image: 54\n",
            "no.of image: 55\n",
            "no.of image: 56\n",
            "no.of image: 57\n",
            "no.of image: 58\n",
            "no.of image: 59\n",
            "no.of image: 60\n",
            "no.of image: 61\n",
            "no.of image: 62\n",
            "no.of image: 63\n",
            "no.of image: 64\n",
            "no.of image: 65\n",
            "no.of image: 66\n",
            "no.of image: 67\n",
            "no.of image: 68\n",
            "no.of image: 69\n",
            "no.of image: 70\n",
            "no.of image: 71\n",
            "no.of image: 72\n",
            "no.of image: 73\n",
            "no.of image: 74\n",
            "no.of image: 75\n",
            "no.of image: 76\n",
            "no.of image: 77\n",
            "no.of image: 78\n",
            "no.of image: 79\n",
            "no.of image: 80\n",
            "no.of image: 81\n",
            "no.of image: 82\n",
            "no.of image: 83\n",
            "no.of image: 84\n",
            "no.of image: 85\n",
            "no.of image: 86\n",
            "no.of image: 87\n",
            "no.of image: 88\n",
            "no.of image: 89\n",
            "no.of image: 90\n",
            "no.of image: 91\n",
            "no.of image: 92\n",
            "no.of image: 93\n",
            "no.of image: 94\n",
            "no.of image: 95\n",
            "no.of image: 96\n",
            "no.of image: 97\n",
            "no.of image: 98\n",
            "no.of image: 99\n",
            "no.of image: 100\n",
            "finished images download\n"
          ],
          "name": "stdout"
        }
      ]
    },
    {
      "cell_type": "code",
      "metadata": {
        "id": "8tX19--dYs_b"
      },
      "source": [
        ""
      ],
      "execution_count": null,
      "outputs": []
    },
    {
      "cell_type": "code",
      "metadata": {
        "id": "4I33i_OiXfl7"
      },
      "source": [
        "from google.colab import drive\n",
        "drive.mount('/content/drive')"
      ],
      "execution_count": null,
      "outputs": []
    },
    {
      "cell_type": "code",
      "metadata": {
        "id": "9mhLHF3vWoF2"
      },
      "source": [
        "!rm -rf annotations"
      ],
      "execution_count": 28,
      "outputs": []
    },
    {
      "cell_type": "code",
      "metadata": {
        "id": "w9wv428eWqfd"
      },
      "source": [
        "!rm -rf person"
      ],
      "execution_count": 39,
      "outputs": []
    },
    {
      "cell_type": "code",
      "metadata": {
        "id": "WTD3PLHaYLTJ"
      },
      "source": [
        ""
      ],
      "execution_count": null,
      "outputs": []
    }
  ]
}