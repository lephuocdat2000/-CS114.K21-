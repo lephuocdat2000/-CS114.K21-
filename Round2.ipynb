{
  "nbformat": 4,
  "nbformat_minor": 0,
  "metadata": {
    "colab": {
      "name": "Untitled16.ipynb",
      "provenance": [],
      "authorship_tag": "ABX9TyNeE8YRLl0fIIFhIPagO5Xf",
      "include_colab_link": true
    },
    "kernelspec": {
      "name": "python3",
      "display_name": "Python 3"
    }
  },
  "cells": [
    {
      "cell_type": "markdown",
      "metadata": {
        "id": "view-in-github",
        "colab_type": "text"
      },
      "source": [
        "<a href=\"https://colab.research.google.com/github/lephuocdat2000/-CS114.K21-/blob/master/Round2.ipynb\" target=\"_parent\"><img src=\"https://colab.research.google.com/assets/colab-badge.svg\" alt=\"Open In Colab\"/></a>"
      ]
    },
    {
      "cell_type": "code",
      "metadata": {
        "id": "o3oLwT5euVcZ",
        "colab_type": "code",
        "colab": {}
      },
      "source": [
        "import pandas as pd\n",
        "import numpy as np\n",
        "import seaborn as sns\n",
        "import matplotlib\n",
        "import matplotlib.pyplot as plt\n",
        "from pandas.plotting import scatter_matrix\n",
        "from matplotlib import pyplot \n",
        "from sklearn.model_selection import train_test_split\n",
        "from sklearn import preprocessing \n",
        "from sklearn.linear_model import LinearRegression\n",
        "from sklearn.preprocessing import PolynomialFeatures\n",
        "from sklearn.pipeline import Pipeline\n",
        "from sklearn.metrics import r2_score"
      ],
      "execution_count": 0,
      "outputs": []
    },
    {
      "cell_type": "markdown",
      "metadata": {
        "id": "nRJi-wA9uZtz",
        "colab_type": "text"
      },
      "source": [
        "Lấy data từ link về\n"
      ]
    },
    {
      "cell_type": "code",
      "metadata": {
        "id": "dsAOFCzTubXe",
        "colab_type": "code",
        "outputId": "791a118b-0add-4c88-a2d8-44e07d57e9b4",
        "colab": {
          "base_uri": "https://localhost:8080/",
          "height": 217
        }
      },
      "source": [
        "!wget http://cs.uit.edu.vn/data2.txt\n",
        "!ls"
      ],
      "execution_count": 17,
      "outputs": [
        {
          "output_type": "stream",
          "text": [
            "--2020-06-13 09:21:12--  http://cs.uit.edu.vn/data2.txt\n",
            "Resolving cs.uit.edu.vn (cs.uit.edu.vn)... 118.69.123.142\n",
            "Connecting to cs.uit.edu.vn (cs.uit.edu.vn)|118.69.123.142|:80... connected.\n",
            "HTTP request sent, awaiting response... 200 OK\n",
            "Length: 1203726 (1.1M) [text/plain]\n",
            "Saving to: ‘data2.txt.1’\n",
            "\n",
            "\rdata2.txt.1           0%[                    ]       0  --.-KB/s               \rdata2.txt.1          73%[=============>      ] 862.72K  3.72MB/s               \rdata2.txt.1         100%[===================>]   1.15M  5.02MB/s    in 0.2s    \n",
            "\n",
            "2020-06-13 09:21:12 (5.02 MB/s) - ‘data2.txt.1’ saved [1203726/1203726]\n",
            "\n",
            "data2.txt  data2.txt.1\tsample_data\n"
          ],
          "name": "stdout"
        }
      ]
    },
    {
      "cell_type": "markdown",
      "metadata": {
        "id": "jK8vutxIygFB",
        "colab_type": "text"
      },
      "source": [
        "Đọc dữ liệu bằng pd.read_csv và tách bộ dữ liệu"
      ]
    },
    {
      "cell_type": "code",
      "metadata": {
        "id": "Hs7eQmd7unzo",
        "colab_type": "code",
        "colab": {}
      },
      "source": [
        "data=pd.read_csv('data2.txt',header=None)\n",
        "data.columns=['Complexity','Timing']\n",
        "#data=data.assign(Square=np.power(data['Complexity'],2),Logarit=np.log2(data['Complexity'],where=(data['Complexity']!=0))*data['Complexity'])\n",
        "#data=data[['Complexity','Square','Logarit','Timing']]\n",
        "#x=data[['Complexity','Square','Logarit']]\n",
        "x=data[['Complexity']]\n",
        "y=data[['Timing']]\n",
        "X_train,X_test,y_train,y_test=train_test_split(x,y,test_size=0.2,random_state=1,)"
      ],
      "execution_count": 0,
      "outputs": []
    },
    {
      "cell_type": "markdown",
      "metadata": {
        "id": "uHbofNdCvRK8",
        "colab_type": "text"
      },
      "source": [
        "Lựa chọn model và fit bộ dữ liệu X_train.values và y_train.values"
      ]
    },
    {
      "cell_type": "code",
      "metadata": {
        "id": "ivnXJD5wvSfe",
        "colab_type": "code",
        "outputId": "8dc039d8-796a-4312-a02e-1ea173b98112",
        "colab": {
          "base_uri": "https://localhost:8080/",
          "height": 50
        }
      },
      "source": [
        "model=LinearRegression().fit(X_train.values,y_train.values)\n",
        "print(\"Slope: \",model.coef_)\n",
        "print(\"Intercept: \",model.intercept_)\n",
        "y_fit=model.predict(X_train.values)"
      ],
      "execution_count": 20,
      "outputs": [
        {
          "output_type": "stream",
          "text": [
            "Slope:  [[8.4556115e-08]]\n",
            "Intercept:  [-0.01591377]\n"
          ],
          "name": "stdout"
        }
      ]
    },
    {
      "cell_type": "markdown",
      "metadata": {
        "id": "OAnP0leFvxci",
        "colab_type": "text"
      },
      "source": [
        "Vẽ đồ thị để xem được mô hình có khớp với bộ dữ liệu test hay không"
      ]
    },
    {
      "cell_type": "code",
      "metadata": {
        "id": "RTi5Knk-vaFu",
        "colab_type": "code",
        "outputId": "b07426e4-cdf6-439f-85dd-b141cdd36911",
        "colab": {
          "base_uri": "https://localhost:8080/",
          "height": 297
        }
      },
      "source": [
        "y_predict=model.predict(X_test.values)\n",
        "plt.scatter(X_test.values,y_test.values)\n",
        "plt.plot(X_test.values,y_predict,'go')"
      ],
      "execution_count": 21,
      "outputs": [
        {
          "output_type": "execute_result",
          "data": {
            "text/plain": [
              "[<matplotlib.lines.Line2D at 0x7f8f3b543470>]"
            ]
          },
          "metadata": {
            "tags": []
          },
          "execution_count": 21
        },
        {
          "output_type": "display_data",
          "data": {
            "image/png": "[encoded data removed]",
            "text/plain": [
              "<Figure size 432x288 with 1 Axes>"
            ]
          },
          "metadata": {
            "tags": [],
            "needs_background": "light"
          }
        }
      ]
    },
    {
      "cell_type": "markdown",
      "metadata": {
        "id": "wfZzxo60wbO-",
        "colab_type": "text"
      },
      "source": [
        "Ứng dụng dự đoán cho model"
      ]
    },
    {
      "cell_type": "code",
      "metadata": {
        "id": "lTsZqaKNwdVP",
        "colab_type": "code",
        "outputId": "5a751292-0f64-4759-e1ec-93da22565aac",
        "colab": {
          "base_uri": "https://localhost:8080/",
          "height": 33
        }
      },
      "source": [
        "def Prediction(x,train=X_train,model=model):\n",
        "  # squarex=np.power(x,2)\n",
        "  #log2x=np.log2(x,where=(x!=0))*x\n",
        "   arr=np.array([[x]])\n",
        "   pred=model.predict(arr)\n",
        "   print(\"Thoi gian du tinh cua thuat toan voi do phuc tap \",x,\" la: \",pred[0][0])\n",
        "Prediction(4426776)"
      ],
      "execution_count": 22,
      "outputs": [
        {
          "output_type": "stream",
          "text": [
            "Thoi gian du tinh cua thuat toan voi do phuc tap  4426776  la:  0.3583972104583744\n"
          ],
          "name": "stdout"
        }
      ]
    },
    {
      "cell_type": "markdown",
      "metadata": {
        "id": "micovSNpUrIF",
        "colab_type": "text"
      },
      "source": [
        "*Đánh giá model *"
      ]
    },
    {
      "cell_type": "markdown",
      "metadata": {
        "id": "qcBbvdy6U0WS",
        "colab_type": "text"
      },
      "source": [
        "Tính toán R square: tổng tỉ lệ phần trăm về giá trị các data point dự đoán dựa trên model được xây dựng so với các data point thực tế "
      ]
    },
    {
      "cell_type": "code",
      "metadata": {
        "id": "jazL8BxIw-b7",
        "colab_type": "code",
        "outputId": "7d0a1911-4c81-48f8-fb3e-bbd309cb9a12",
        "colab": {
          "base_uri": "https://localhost:8080/",
          "height": 33
        }
      },
      "source": [
        "r2_score(y_test,y_predict)"
      ],
      "execution_count": 24,
      "outputs": [
        {
          "output_type": "execute_result",
          "data": {
            "text/plain": [
              "0.9975725646439417"
            ]
          },
          "metadata": {
            "tags": []
          },
          "execution_count": 24
        }
      ]
    }
  ]
}