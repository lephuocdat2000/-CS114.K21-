{
  "nbformat": 4,
  "nbformat_minor": 0,
  "metadata": {
    "colab": {
      "name": "Untitled16.ipynb",
      "provenance": [],
      "authorship_tag": "ABX9TyOLcQoEryWN5z4IERQ9fNyv",
      "include_colab_link": true
    },
    "kernelspec": {
      "name": "python3",
      "display_name": "Python 3"
    }
  },
  "cells": [
    {
      "cell_type": "markdown",
      "metadata": {
        "id": "view-in-github",
        "colab_type": "text"
      },
      "source": [
        "<a href=\"https://colab.research.google.com/github/lephuocdat2000/-CS114.K21-/blob/master/Round2.ipynb\" target=\"_parent\"><img src=\"https://colab.research.google.com/assets/colab-badge.svg\" alt=\"Open In Colab\"/></a>"
      ]
    },
    {
      "cell_type": "code",
      "metadata": {
        "id": "o3oLwT5euVcZ",
        "colab_type": "code",
        "colab": {}
      },
      "source": [
        "import pandas as pd\n",
        "import numpy as np\n",
        "import seaborn as sns\n",
        "import matplotlib\n",
        "import matplotlib.pyplot as plt\n",
        "from pandas.plotting import scatter_matrix\n",
        "from matplotlib import pyplot \n",
        "from sklearn.model_selection import train_test_split\n",
        "from sklearn import preprocessing \n",
        "from sklearn.linear_model import LinearRegression\n",
        "from sklearn.metrics import mean_squared_error\n",
        "from sklearn.metrics import r2_score\n",
        "from yellowbrick.regressor import ResidualsPlot"
      ],
      "execution_count": 18,
      "outputs": []
    },
    {
      "cell_type": "markdown",
      "metadata": {
        "id": "nRJi-wA9uZtz",
        "colab_type": "text"
      },
      "source": [
        "Lấy data từ link về\n"
      ]
    },
    {
      "cell_type": "code",
      "metadata": {
        "id": "dsAOFCzTubXe",
        "colab_type": "code",
        "colab": {
          "base_uri": "https://localhost:8080/",
          "height": 217
        },
        "outputId": "65938660-56ee-4986-b450-06f4db743425"
      },
      "source": [
        "!wget http://cs.uit.edu.vn/data2.txt\n",
        "!ls"
      ],
      "execution_count": 12,
      "outputs": [
        {
          "output_type": "stream",
          "text": [
            "--2020-06-19 07:00:48--  http://cs.uit.edu.vn/data2.txt\n",
            "Resolving cs.uit.edu.vn (cs.uit.edu.vn)... 118.69.123.142\n",
            "Connecting to cs.uit.edu.vn (cs.uit.edu.vn)|118.69.123.142|:80... connected.\n",
            "HTTP request sent, awaiting response... 200 OK\n",
            "Length: 1203726 (1.1M) [text/plain]\n",
            "Saving to: ‘data2.txt.1’\n",
            "\n",
            "data2.txt.1         100%[===================>]   1.15M   844KB/s    in 1.4s    \n",
            "\n",
            "2020-06-19 07:00:51 (844 KB/s) - ‘data2.txt.1’ saved [1203726/1203726]\n",
            "\n",
            "data2.txt  data2.txt.1\tsample_data\n"
          ],
          "name": "stdout"
        }
      ]
    },
    {
      "cell_type": "markdown",
      "metadata": {
        "id": "jK8vutxIygFB",
        "colab_type": "text"
      },
      "source": [
        "Đọc dữ liệu bằng pd.read_csv và tách bộ dữ liệu"
      ]
    },
    {
      "cell_type": "code",
      "metadata": {
        "id": "Hs7eQmd7unzo",
        "colab_type": "code",
        "colab": {
          "base_uri": "https://localhost:8080/",
          "height": 294
        },
        "outputId": "f4cae42c-20d7-4798-c09d-49f2b0a0d25a"
      },
      "source": [
        "data=pd.read_csv('data2.txt',header=None)\n",
        "data.columns=['Complexity','Timing']\n",
        "x=data[['Complexity']]\n",
        "y=data[['Timing']]\n",
        "X_train,X_test,y_train,y_test=train_test_split(x,y,test_size=0.2,random_state=1,)\n",
        "plt.scatter(X_train,y_train,color='blue')\n",
        "plt.title(\"H\")\n",
        "plt.ylabel(\"Feature\")\n",
        "plt.xlabel(\"Time\")\n",
        "plt.show()"
      ],
      "execution_count": 13,
      "outputs": [
        {
          "output_type": "display_data",
          "data": {
            "image/png": "[encoded data removed]",
            "text/plain": [
              "<Figure size 432x288 with 1 Axes>"
            ]
          },
          "metadata": {
            "tags": [],
            "needs_background": "light"
          }
        }
      ]
    },
    {
      "cell_type": "markdown",
      "metadata": {
        "id": "ezohKDm7Wxpi",
        "colab_type": "text"
      },
      "source": [
        "hầu hết các điểm nằm giữa 2 đường, đường trên gần thẳng, đường dưới khá thẳng => Phù hợp với Linear Regression"
      ]
    },
    {
      "cell_type": "markdown",
      "metadata": {
        "id": "uHbofNdCvRK8",
        "colab_type": "text"
      },
      "source": [
        "Lựa chọn model và fit bộ dữ liệu X_train.values và y_train.values"
      ]
    },
    {
      "cell_type": "code",
      "metadata": {
        "id": "ivnXJD5wvSfe",
        "colab_type": "code",
        "colab": {
          "base_uri": "https://localhost:8080/",
          "height": 50
        },
        "outputId": "daa22c17-c32a-41cc-cd4a-824eeedaee25"
      },
      "source": [
        "model=LinearRegression().fit(X_train.values,y_train.values)\n",
        "print(\"Slope: \",model.coef_)\n",
        "print(\"Intercept: \",model.intercept_)\n",
        "y_fit=model.predict(X_train.values)\n",
        "y_predict=model.predict(X_test.values)"
      ],
      "execution_count": 14,
      "outputs": [
        {
          "output_type": "stream",
          "text": [
            "Slope:  [[8.4556115e-08]]\n",
            "Intercept:  [-0.01591377]\n"
          ],
          "name": "stdout"
        }
      ]
    },
    {
      "cell_type": "code",
      "metadata": {
        "id": "wlczQqw5X_V0",
        "colab_type": "code",
        "colab": {
          "base_uri": "https://localhost:8080/",
          "height": 50
        },
        "outputId": "46db3ed0-c9aa-4b28-8e66-4bcbd448597d"
      },
      "source": [
        "mean_label=np.mean(y_test)\n",
        "mean_label"
      ],
      "execution_count": 19,
      "outputs": [
        {
          "output_type": "execute_result",
          "data": {
            "text/plain": [
              "Timing    0.407628\n",
              "dtype: float64"
            ]
          },
          "metadata": {
            "tags": []
          },
          "execution_count": 19
        }
      ]
    },
    {
      "cell_type": "markdown",
      "metadata": {
        "id": "wfZzxo60wbO-",
        "colab_type": "text"
      },
      "source": [
        "Ứng dụng dự đoán cho model"
      ]
    },
    {
      "cell_type": "code",
      "metadata": {
        "id": "lTsZqaKNwdVP",
        "colab_type": "code",
        "colab": {
          "base_uri": "https://localhost:8080/",
          "height": 33
        },
        "outputId": "0138686a-9dcc-4200-b5d7-3053dd414596"
      },
      "source": [
        "def Prediction(x,train=X_train,model=model):\n",
        "  # squarex=np.power(x,2)\n",
        "  #log2x=np.log2(x,where=(x!=0))*x\n",
        "   arr=np.array([[x]])\n",
        "   pred=model.predict(arr)\n",
        "   print(\"Thoi gian du tinh cua thuat toan voi do phuc tap \",x,\" la: \",pred[0][0])\n",
        "Prediction(4426776)"
      ],
      "execution_count": 16,
      "outputs": [
        {
          "output_type": "stream",
          "text": [
            "Thoi gian du tinh cua thuat toan voi do phuc tap  4426776  la:  0.3583972104583744\n"
          ],
          "name": "stdout"
        }
      ]
    },
    {
      "cell_type": "markdown",
      "metadata": {
        "id": "micovSNpUrIF",
        "colab_type": "text"
      },
      "source": [
        "Khả năng dự đoán của ứng dụng ta có thể đánh giá việc dự đoán của model trên bộ test set"
      ]
    },
    {
      "cell_type": "markdown",
      "metadata": {
        "id": "Jh68BboNE7JN",
        "colab_type": "text"
      },
      "source": [
        "Đánh giá mean square error: Trung bình của tổng bình phương về sự khác nhau giữa các data point dự đoán và data point thực tế (để tính xem tổng khoảng cách giữa fitted line và data point thực tế ). Mean square error càng nhỏ thì mô hình các khớp với bộ dữ liệu."
      ]
    },
    {
      "cell_type": "code",
      "metadata": {
        "id": "1J9qKqK22R55",
        "colab_type": "code",
        "colab": {
          "base_uri": "https://localhost:8080/",
          "height": 67
        },
        "outputId": "ebabc264-efcb-4e91-e762-527785a9aade"
      },
      "source": [
        "# See our Squared Mean Error score and Root Mean Squared Error:\n",
        "test_mse = mean_squared_error(y_test, y_predict,)\n",
        "print(\"mean square error: \",test_mse) \n",
        "print(\"mean label: \",mean_label)"
      ],
      "execution_count": 20,
      "outputs": [
        {
          "output_type": "stream",
          "text": [
            "mean square error 0.00014442191299350495\n",
            "mean label Timing    0.407628\n",
            "dtype: float64\n"
          ],
          "name": "stdout"
        }
      ]
    },
    {
      "cell_type": "code",
      "metadata": {
        "id": "xmhnUEg2bD31",
        "colab_type": "code",
        "colab": {
          "base_uri": "https://localhost:8080/",
          "height": 33
        },
        "outputId": "4f5bede5-6ff6-4ac0-a481-f1b43bb5d55c"
      },
      "source": [
        "import math\n",
        "print(math.sqrt(test_mse))"
      ],
      "execution_count": 21,
      "outputs": [
        {
          "output_type": "stream",
          "text": [
            "0.012017566849970294\n"
          ],
          "name": "stdout"
        }
      ]
    },
    {
      "cell_type": "markdown",
      "metadata": {
        "id": "yK6Ew4LybVgO",
        "colab_type": "text"
      },
      "source": [
        "Dự đoán 40 lệch 1 => Không quá tệ nhưng vẫn thực hiện được"
      ]
    }
  ]
}