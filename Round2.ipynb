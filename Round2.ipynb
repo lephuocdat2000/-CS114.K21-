{
  "nbformat": 4,
  "nbformat_minor": 0,
  "metadata": {
    "colab": {
      "name": "Untitled16.ipynb",
      "provenance": [],
      "authorship_tag": "ABX9TyO9jQAtN1lj0PX9x7Q0VmWS",
      "include_colab_link": true
    },
    "kernelspec": {
      "name": "python3",
      "display_name": "Python 3"
    }
  },
  "cells": [
    {
      "cell_type": "markdown",
      "metadata": {
        "id": "view-in-github",
        "colab_type": "text"
      },
      "source": [
        "<a href=\"https://colab.research.google.com/github/lephuocdat2000/-CS114.K21-/blob/master/Round2.ipynb\" target=\"_parent\"><img src=\"https://colab.research.google.com/assets/colab-badge.svg\" alt=\"Open In Colab\"/></a>"
      ]
    },
    {
      "cell_type": "code",
      "metadata": {
        "id": "o3oLwT5euVcZ",
        "colab_type": "code",
        "colab": {
          "base_uri": "https://localhost:8080/",
          "height": 70
        },
        "outputId": "577ee9c1-7fd1-4e84-8379-3b26478e2792"
      },
      "source": [
        "import pandas as pd\n",
        "import numpy as np\n",
        "import seaborn as sns\n",
        "import matplotlib\n",
        "import matplotlib.pyplot as plt\n",
        "from pandas.plotting import scatter_matrix\n",
        "from matplotlib import pyplot \n",
        "from sklearn.model_selection import train_test_split\n",
        "from sklearn import preprocessing \n",
        "from sklearn.linear_model import LinearRegression\n",
        "from sklearn.preprocessing import PolynomialFeatures\n",
        "from sklearn.pipeline import Pipeline\n",
        "from sklearn.metrics import mean_squared_error, mean_absolute_error\n",
        "from yellowbrick.regressor import ResidualsPlot"
      ],
      "execution_count": 15,
      "outputs": [
        {
          "output_type": "stream",
          "text": [
            "/usr/local/lib/python3.6/dist-packages/sklearn/utils/deprecation.py:144: FutureWarning: The sklearn.metrics.classification module is  deprecated in version 0.22 and will be removed in version 0.24. The corresponding classes / functions should instead be imported from sklearn.metrics. Anything that cannot be imported from sklearn.metrics is now part of the private API.\n",
            "  warnings.warn(message, FutureWarning)\n"
          ],
          "name": "stderr"
        }
      ]
    },
    {
      "cell_type": "markdown",
      "metadata": {
        "id": "nRJi-wA9uZtz",
        "colab_type": "text"
      },
      "source": [
        "Lấy data từ link về\n"
      ]
    },
    {
      "cell_type": "code",
      "metadata": {
        "id": "dsAOFCzTubXe",
        "colab_type": "code",
        "outputId": "4fcefa36-356f-41ab-b575-8f0b372602b9",
        "colab": {
          "base_uri": "https://localhost:8080/",
          "height": 217
        }
      },
      "source": [
        "!wget http://cs.uit.edu.vn/data2.txt\n",
        "!ls"
      ],
      "execution_count": 3,
      "outputs": [
        {
          "output_type": "stream",
          "text": [
            "--2020-06-14 03:08:44--  http://cs.uit.edu.vn/data2.txt\n",
            "Resolving cs.uit.edu.vn (cs.uit.edu.vn)... 118.69.123.142\n",
            "Connecting to cs.uit.edu.vn (cs.uit.edu.vn)|118.69.123.142|:80... connected.\n",
            "HTTP request sent, awaiting response... 200 OK\n",
            "Length: 1203726 (1.1M) [text/plain]\n",
            "Saving to: ‘data2.txt’\n",
            "\n",
            "data2.txt           100%[===================>]   1.15M   877KB/s    in 1.3s    \n",
            "\n",
            "2020-06-14 03:08:47 (877 KB/s) - ‘data2.txt’ saved [1203726/1203726]\n",
            "\n",
            "data2.txt  sample_data\n"
          ],
          "name": "stdout"
        }
      ]
    },
    {
      "cell_type": "markdown",
      "metadata": {
        "id": "jK8vutxIygFB",
        "colab_type": "text"
      },
      "source": [
        "Đọc dữ liệu bằng pd.read_csv và tách bộ dữ liệu"
      ]
    },
    {
      "cell_type": "code",
      "metadata": {
        "id": "Hs7eQmd7unzo",
        "colab_type": "code",
        "colab": {}
      },
      "source": [
        "data=pd.read_csv('data2.txt',header=None)\n",
        "data.columns=['Complexity','Timing']\n",
        "x=data[['Complexity']]\n",
        "y=data[['Timing']]\n",
        "X_train,X_test,y_train,y_test=train_test_split(x,y,test_size=0.2,random_state=1,)"
      ],
      "execution_count": 0,
      "outputs": []
    },
    {
      "cell_type": "markdown",
      "metadata": {
        "id": "uHbofNdCvRK8",
        "colab_type": "text"
      },
      "source": [
        "Lựa chọn model và fit bộ dữ liệu X_train.values và y_train.values"
      ]
    },
    {
      "cell_type": "code",
      "metadata": {
        "id": "ivnXJD5wvSfe",
        "colab_type": "code",
        "outputId": "e8c0954b-fc03-4eca-b60d-436e68b5df59",
        "colab": {
          "base_uri": "https://localhost:8080/",
          "height": 50
        }
      },
      "source": [
        "model=LinearRegression().fit(X_train.values,y_train.values)\n",
        "print(\"Slope: \",model.coef_)\n",
        "print(\"Intercept: \",model.intercept_)\n",
        "y_fit=model.predict(X_train.values)"
      ],
      "execution_count": 27,
      "outputs": [
        {
          "output_type": "stream",
          "text": [
            "Slope:  [[8.4556115e-08]]\n",
            "Intercept:  [-0.01591377]\n"
          ],
          "name": "stdout"
        }
      ]
    },
    {
      "cell_type": "markdown",
      "metadata": {
        "id": "OAnP0leFvxci",
        "colab_type": "text"
      },
      "source": [
        "Vẽ đồ thị để xem được mô hình có khớp với bộ dữ liệu test hay không"
      ]
    },
    {
      "cell_type": "code",
      "metadata": {
        "id": "RTi5Knk-vaFu",
        "colab_type": "code",
        "outputId": "4c0a9f7a-a74b-4f1b-c8eb-e9e289d59914",
        "colab": {
          "base_uri": "https://localhost:8080/",
          "height": 377
        }
      },
      "source": [
        "y_predict=model.predict(X_test.values)\n",
        "plt.scatter(X_test.values,y_test.values)\n",
        "plt.plot(X_test.values,y_predict,'go')"
      ],
      "execution_count": 28,
      "outputs": [
        {
          "output_type": "execute_result",
          "data": {
            "text/plain": [
              "[<matplotlib.lines.Line2D at 0x7f3b8cf5b8d0>]"
            ]
          },
          "metadata": {
            "tags": []
          },
          "execution_count": 28
        },
        {
          "output_type": "display_data",
          "data": {
            "image/png": "[encoded data removed]",
            "text/plain": [
              "<Figure size 576x396 with 1 Axes>"
            ]
          },
          "metadata": {
            "tags": []
          }
        }
      ]
    },
    {
      "cell_type": "markdown",
      "metadata": {
        "id": "wfZzxo60wbO-",
        "colab_type": "text"
      },
      "source": [
        "Ứng dụng dự đoán cho model"
      ]
    },
    {
      "cell_type": "code",
      "metadata": {
        "id": "lTsZqaKNwdVP",
        "colab_type": "code",
        "outputId": "ebc9347a-a43b-4e4b-8cef-7613424eb8ec",
        "colab": {
          "base_uri": "https://localhost:8080/",
          "height": 33
        }
      },
      "source": [
        "def Prediction(x,train=X_train,model=model):\n",
        "  # squarex=np.power(x,2)\n",
        "  #log2x=np.log2(x,where=(x!=0))*x\n",
        "   arr=np.array([[x]])\n",
        "   pred=model.predict(arr)\n",
        "   print(\"Thoi gian du tinh cua thuat toan voi do phuc tap \",x,\" la: \",pred[0][0])\n",
        "Prediction(4426776)"
      ],
      "execution_count": 29,
      "outputs": [
        {
          "output_type": "stream",
          "text": [
            "Thoi gian du tinh cua thuat toan voi do phuc tap  4426776  la:  0.3583972104583744\n"
          ],
          "name": "stdout"
        }
      ]
    },
    {
      "cell_type": "markdown",
      "metadata": {
        "id": "micovSNpUrIF",
        "colab_type": "text"
      },
      "source": [
        "Khả năng dự đoán của ứng dụng ta có thể đánh giá việc dự đoán của model trên bộ test set"
      ]
    },
    {
      "cell_type": "markdown",
      "metadata": {
        "id": "qcBbvdy6U0WS",
        "colab_type": "text"
      },
      "source": [
        "Tính toán R square: Tỉ lệ tương thích giữa giá trị các data point được dự đoán dựa trên model được xây dựng so với các data point thực tế "
      ]
    },
    {
      "cell_type": "code",
      "metadata": {
        "id": "jazL8BxIw-b7",
        "colab_type": "code",
        "outputId": "168813e8-6096-4dfd-8da0-ea942c4bcbbb",
        "colab": {
          "base_uri": "https://localhost:8080/",
          "height": 33
        }
      },
      "source": [
        "r2_score(y_test,y_predict)"
      ],
      "execution_count": 30,
      "outputs": [
        {
          "output_type": "execute_result",
          "data": {
            "text/plain": [
              "0.9975725646439417"
            ]
          },
          "metadata": {
            "tags": []
          },
          "execution_count": 30
        }
      ]
    },
    {
      "cell_type": "markdown",
      "metadata": {
        "id": "sYXxG61qDe65",
        "colab_type": "text"
      },
      "source": [
        "Ở đây ta thấy dược R square xấp xỉ 1 => Các data point được dự đoán so với data point thực tế trên bộ test set gần như là giống nhau"
      ]
    },
    {
      "cell_type": "markdown",
      "metadata": {
        "id": "Jh68BboNE7JN",
        "colab_type": "text"
      },
      "source": [
        "Tiếp theo,đánh giá mean square error: Trung bình của tổng bình phương về sự khác nhau giữa các data point dự đoán và data point thực tế (để tính xem tổng khoảng cách giữa fitted line và data point thực tế ). Mean square error càng nhỏ thì mô hình các khớp với bộ dữ liệu."
      ]
    },
    {
      "cell_type": "code",
      "metadata": {
        "id": "1J9qKqK22R55",
        "colab_type": "code",
        "colab": {
          "base_uri": "https://localhost:8080/",
          "height": 33
        },
        "outputId": "6b9aa433-8e66-48df-c6d2-b55675e84548"
      },
      "source": [
        "# See our Squared Mean Error score and Root Mean Squared Error:\n",
        "test_mse = mean_squared_error(y_test, y_predict,)\n",
        "print(\"mean square error\",test_mse) "
      ],
      "execution_count": 33,
      "outputs": [
        {
          "output_type": "stream",
          "text": [
            "mean square error 0.00014442191299350495\n"
          ],
          "name": "stdout"
        }
      ]
    },
    {
      "cell_type": "markdown",
      "metadata": {
        "id": "bys3TeDDFgW3",
        "colab_type": "text"
      },
      "source": [
        "Mean square error rất nhỏ và R square lớn(xấp xỉ bằng 1) => Ứng dụng dự đoán tốt "
      ]
    }
  ]
}