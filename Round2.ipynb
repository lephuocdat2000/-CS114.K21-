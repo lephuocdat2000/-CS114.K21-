{
  "nbformat": 4,
  "nbformat_minor": 0,
  "metadata": {
    "colab": {
      "name": "Untitled16.ipynb",
      "provenance": [],
      "authorship_tag": "ABX9TyPv46N8Ra+xZoXlMNDlKE9V",
      "include_colab_link": true
    },
    "kernelspec": {
      "name": "python3",
      "display_name": "Python 3"
    }
  },
  "cells": [
    {
      "cell_type": "markdown",
      "metadata": {
        "id": "view-in-github",
        "colab_type": "text"
      },
      "source": [
        "<a href=\"https://colab.research.google.com/github/lephuocdat2000/-CS114.K21-/blob/master/Round2.ipynb\" target=\"_parent\"><img src=\"https://colab.research.google.com/assets/colab-badge.svg\" alt=\"Open In Colab\"/></a>"
      ]
    },
    {
      "cell_type": "code",
      "metadata": {
        "id": "o3oLwT5euVcZ",
        "colab_type": "code",
        "colab": {}
      },
      "source": [
        "import pandas as pd\n",
        "import numpy as np\n",
        "import seaborn as sns\n",
        "import matplotlib\n",
        "import matplotlib.pyplot as plt\n",
        "from pandas.plotting import scatter_matrix\n",
        "from matplotlib import pyplot \n",
        "from sklearn.model_selection import train_test_split\n",
        "from sklearn import preprocessing \n",
        "from sklearn.linear_model import LinearRegression\n",
        "from sklearn.preprocessing import PolynomialFeatures\n",
        "from sklearn.pipeline import Pipeline\n",
        "from sklearn.metrics import r2_score"
      ],
      "execution_count": 0,
      "outputs": []
    },
    {
      "cell_type": "markdown",
      "metadata": {
        "id": "nRJi-wA9uZtz",
        "colab_type": "text"
      },
      "source": [
        "Lấy data từ link về\n"
      ]
    },
    {
      "cell_type": "code",
      "metadata": {
        "id": "dsAOFCzTubXe",
        "colab_type": "code",
        "colab": {
          "base_uri": "https://localhost:8080/",
          "height": 217
        },
        "outputId": "417ab016-a7c6-42aa-cb13-4d7b56ee0376"
      },
      "source": [
        "!wget http://cs.uit.edu.vn/data2.txt\n",
        "!ls"
      ],
      "execution_count": 1,
      "outputs": [
        {
          "output_type": "stream",
          "text": [
            "--2020-06-12 08:51:32--  http://cs.uit.edu.vn/data2.txt\n",
            "Resolving cs.uit.edu.vn (cs.uit.edu.vn)... 118.69.123.142\n",
            "Connecting to cs.uit.edu.vn (cs.uit.edu.vn)|118.69.123.142|:80... connected.\n",
            "HTTP request sent, awaiting response... 200 OK\n",
            "Length: 1203726 (1.1M) [text/plain]\n",
            "Saving to: ‘data2.txt’\n",
            "\n",
            "data2.txt           100%[===================>]   1.15M  1.16MB/s    in 1.0s    \n",
            "\n",
            "2020-06-12 08:51:34 (1.16 MB/s) - ‘data2.txt’ saved [1203726/1203726]\n",
            "\n",
            "data2.txt  sample_data\n"
          ],
          "name": "stdout"
        }
      ]
    },
    {
      "cell_type": "markdown",
      "metadata": {
        "id": "jK8vutxIygFB",
        "colab_type": "text"
      },
      "source": [
        "Đọc dữ liệu và thêm cột log2complexity,squarecomplexity,tách bộ dữ liệu"
      ]
    },
    {
      "cell_type": "code",
      "metadata": {
        "id": "Hs7eQmd7unzo",
        "colab_type": "code",
        "colab": {}
      },
      "source": [
        "data=pd.read_csv('data2.txt',header=None)\n",
        "data.columns=['Complexity','Timing']\n",
        "data=data.assign(Square=np.power(data['Complexity'],2),Logarit=np.log2(data['Complexity'],where=(data['Complexity']!=0))*data['Complexity'])\n",
        "data=data[['Complexity','Square','Logarit','Timing']]\n",
        "x=data[['Complexity','Square','Logarit']]\n",
        "y=data[['Timing']]\n",
        "X_train,X_test,y_train,y_test=train_test_split(x,y,test_size=0.2,random_state=1,)"
      ],
      "execution_count": 0,
      "outputs": []
    },
    {
      "cell_type": "markdown",
      "metadata": {
        "id": "uHbofNdCvRK8",
        "colab_type": "text"
      },
      "source": [
        "Lựa chọn model và fit bộ dữ liệu X_train.values và y_train.values"
      ]
    },
    {
      "cell_type": "code",
      "metadata": {
        "id": "ivnXJD5wvSfe",
        "colab_type": "code",
        "colab": {
          "base_uri": "https://localhost:8080/",
          "height": 50
        },
        "outputId": "42a96933-b8fd-4bc5-8d1a-9b6449be1b54"
      },
      "source": [
        "model=LinearRegression().fit(X_train.values,y_train.values)\n",
        "print(\"Slope: \",model.coef_)\n",
        "print(\"Intercept: \",model.intercept_)\n",
        "y_fit=model.predict(X_train.values)"
      ],
      "execution_count": 10,
      "outputs": [
        {
          "output_type": "stream",
          "text": [
            "Slope:  [[ 5.83032786e-09 -1.08268401e-18  3.35155096e-09]]\n",
            "Intercept:  [0.00017337]\n"
          ],
          "name": "stdout"
        }
      ]
    },
    {
      "cell_type": "markdown",
      "metadata": {
        "id": "OAnP0leFvxci",
        "colab_type": "text"
      },
      "source": [
        ""
      ]
    },
    {
      "cell_type": "code",
      "metadata": {
        "id": "RTi5Knk-vaFu",
        "colab_type": "code",
        "colab": {
          "base_uri": "https://localhost:8080/",
          "height": 297
        },
        "outputId": "e5275fd8-b39d-44be-dc9c-e7e1103e65db"
      },
      "source": [
        "y_predict=model.predict(X_test.values)\n",
        "plt.scatter(X_test['Complexity'].values,y_test.values)\n",
        "plt.plot(X_test['Complexity'].values,y_predict,'go')"
      ],
      "execution_count": 14,
      "outputs": [
        {
          "output_type": "execute_result",
          "data": {
            "text/plain": [
              "[<matplotlib.lines.Line2D at 0x7f1cc6d417f0>]"
            ]
          },
          "metadata": {
            "tags": []
          },
          "execution_count": 14
        },
        {
          "output_type": "display_data",
          "data": {
            "image/png": "[encoded data removed]",
            "text/plain": [
              "<Figure size 432x288 with 1 Axes>"
            ]
          },
          "metadata": {
            "tags": [],
            "needs_background": "light"
          }
        }
      ]
    },
    {
      "cell_type": "markdown",
      "metadata": {
        "id": "wfZzxo60wbO-",
        "colab_type": "text"
      },
      "source": [
        "Ứng dụng dự đoán cho model"
      ]
    },
    {
      "cell_type": "code",
      "metadata": {
        "id": "lTsZqaKNwdVP",
        "colab_type": "code",
        "colab": {
          "base_uri": "https://localhost:8080/",
          "height": 33
        },
        "outputId": "e557525b-2a98-4cf7-984a-46b6595b2a9c"
      },
      "source": [
        "def Prediction(x,train=X_train,model=model):\n",
        "   squarex=np.power(x,2)\n",
        "   log2x=np.log2(x,where=(x!=0))*x\n",
        "   arr=np.array([[x,squarex,log2x]])\n",
        "   pred=model.predict(arr)\n",
        "   print(\"Thoi gian du tinh cua thuat toan voi do phuc tap \",x,\" la: \",pred[0][0])\n",
        "Prediction(4426776)"
      ],
      "execution_count": 18,
      "outputs": [
        {
          "output_type": "stream",
          "text": [
            "Thoi gian du tinh cua thuat toan voi do phuc tap  4426776  la:  0.35352079748628906\n"
          ],
          "name": "stdout"
        }
      ]
    },
    {
      "cell_type": "code",
      "metadata": {
        "id": "THZ2PIcExNQ9",
        "colab_type": "code",
        "colab": {}
      },
      "source": [
        "Dự đoán hiệu suất mô hình bằng R square error"
      ],
      "execution_count": 0,
      "outputs": []
    },
    {
      "cell_type": "code",
      "metadata": {
        "id": "jazL8BxIw-b7",
        "colab_type": "code",
        "colab": {
          "base_uri": "https://localhost:8080/",
          "height": 33
        },
        "outputId": "9dacdaed-d0c7-4211-9789-fd22cd4efde1"
      },
      "source": [
        "r2_score(y_test,y_predict)"
      ],
      "execution_count": 20,
      "outputs": [
        {
          "output_type": "execute_result",
          "data": {
            "text/plain": [
              "0.997928149707664"
            ]
          },
          "metadata": {
            "tags": []
          },
          "execution_count": 20
        }
      ]
    }
  ]
}