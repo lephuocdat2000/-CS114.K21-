{
  "nbformat": 4,
  "nbformat_minor": 0,
  "metadata": {
    "colab": {
      "name": "Untitled0.ipynb",
      "provenance": [],
      "collapsed_sections": [],
      "authorship_tag": "ABX9TyNOsZBdidtNEoUGUNvNiL1l",
      "include_colab_link": true
    },
    "kernelspec": {
      "name": "python3",
      "display_name": "Python 3"
    }
  },
  "cells": [
    {
      "cell_type": "markdown",
      "metadata": {
        "id": "view-in-github",
        "colab_type": "text"
      },
      "source": [
        "<a href=\"https://colab.research.google.com/github/lephuocdat2000/-CS114.K21-/blob/master/GenderClassification.ipynb\" target=\"_parent\"><img src=\"https://colab.research.google.com/assets/colab-badge.svg\" alt=\"Open In Colab\"/></a>"
      ]
    },
    {
      "cell_type": "code",
      "metadata": {
        "id": "WUHBOj8GwDwa",
        "colab_type": "code",
        "colab": {
          "base_uri": "https://localhost:8080/",
          "height": 304
        },
        "outputId": "488cdd0c-d765-4a2f-961a-2e0e8f35db13"
      },
      "source": [
        "!sudo pip install mtcnn\n",
        "import mtcnn\n",
        "print(mtcnn.__version__)"
      ],
      "execution_count": 1,
      "outputs": [
        {
          "output_type": "stream",
          "text": [
            "Collecting mtcnn\n",
            "\u001b[?25l  Downloading https://files.pythonhosted.org/packages/67/43/abee91792797c609c1bf30f1112117f7a87a713ebaa6ec5201d5555a73ef/mtcnn-0.1.0-py3-none-any.whl (2.3MB)\n",
            "\u001b[K     |████████████████████████████████| 2.3MB 2.7MB/s \n",
            "\u001b[?25hRequirement already satisfied: opencv-python>=4.1.0 in /usr/local/lib/python3.6/dist-packages (from mtcnn) (4.1.2.30)\n",
            "Requirement already satisfied: keras>=2.0.0 in /usr/local/lib/python3.6/dist-packages (from mtcnn) (2.3.1)\n",
            "Requirement already satisfied: numpy>=1.11.3 in /usr/local/lib/python3.6/dist-packages (from opencv-python>=4.1.0->mtcnn) (1.18.5)\n",
            "Requirement already satisfied: keras-preprocessing>=1.0.5 in /usr/local/lib/python3.6/dist-packages (from keras>=2.0.0->mtcnn) (1.1.2)\n",
            "Requirement already satisfied: h5py in /usr/local/lib/python3.6/dist-packages (from keras>=2.0.0->mtcnn) (2.10.0)\n",
            "Requirement already satisfied: scipy>=0.14 in /usr/local/lib/python3.6/dist-packages (from keras>=2.0.0->mtcnn) (1.4.1)\n",
            "Requirement already satisfied: six>=1.9.0 in /usr/local/lib/python3.6/dist-packages (from keras>=2.0.0->mtcnn) (1.12.0)\n",
            "Requirement already satisfied: pyyaml in /usr/local/lib/python3.6/dist-packages (from keras>=2.0.0->mtcnn) (3.13)\n",
            "Requirement already satisfied: keras-applications>=1.0.6 in /usr/local/lib/python3.6/dist-packages (from keras>=2.0.0->mtcnn) (1.0.8)\n",
            "Installing collected packages: mtcnn\n",
            "Successfully installed mtcnn-0.1.0\n"
          ],
          "name": "stdout"
        },
        {
          "output_type": "stream",
          "text": [
            "Using TensorFlow backend.\n"
          ],
          "name": "stderr"
        },
        {
          "output_type": "stream",
          "text": [
            "0.1.0\n"
          ],
          "name": "stdout"
        }
      ]
    },
    {
      "cell_type": "code",
      "metadata": {
        "id": "DLK5YgC2wV44",
        "colab_type": "code",
        "colab": {}
      },
      "source": [
        "from PIL import Image\n",
        "from mtcnn.mtcnn import MTCNN\n",
        "import pandas as pd\n",
        "import numpy as np \n",
        "from numpy import savez_compressed\n",
        "from numpy import asarray\n",
        "from numpy import expand_dims\n",
        "from os import listdir\n",
        "from os.path import isdir\n",
        "import matplotlib.pyplot as plt\n"
      ],
      "execution_count": 2,
      "outputs": []
    },
    {
      "cell_type": "code",
      "metadata": {
        "id": "BbPojJuvfdrN",
        "colab_type": "code",
        "colab": {
          "base_uri": "https://localhost:8080/",
          "height": 120
        },
        "outputId": "c897a820-b5d1-4d5c-c6fc-bdd7f6b4642d"
      },
      "source": [
        "from google.colab import drive\n",
        "drive.mount('/content/drive')"
      ],
      "execution_count": 5,
      "outputs": [
        {
          "output_type": "stream",
          "text": [
            "Go to this URL in a browser: https://accounts.google.com/o/oauth2/auth?client_id=947318989803-6bn6qk8qdgf4n4g3pfee6491hc0brc4i.apps.googleusercontent.com&redirect_uri=urn%3aietf%3awg%3aoauth%3a2.0%3aoob&response_type=code&scope=email%20https%3a%2f%2fwww.googleapis.com%2fauth%2fdocs.test%20https%3a%2f%2fwww.googleapis.com%2fauth%2fdrive%20https%3a%2f%2fwww.googleapis.com%2fauth%2fdrive.photos.readonly%20https%3a%2f%2fwww.googleapis.com%2fauth%2fpeopleapi.readonly\n",
            "\n",
            "Enter your authorization code:\n",
            "··········\n",
            "Mounted at /content/drive\n"
          ],
          "name": "stdout"
        }
      ]
    },
    {
      "cell_type": "code",
      "metadata": {
        "id": "yykSZsbDwg1B",
        "colab_type": "code",
        "colab": {}
      },
      "source": [
        "def extract_face(filename, required_size=(160, 160)):\n",
        "\t# load image from file\n",
        "\timage = Image.open(filename)\n",
        "\t# convert to array\n",
        "\tpixels = asarray(image)\n",
        "\t# create the detector, using default weights\n",
        "\tdetector = MTCNN()\n",
        "\t# detect faces in the image\n",
        "\tresults = detector.detect_faces(pixels)\n",
        "\t# extract the bounding box from the first face\n",
        "\tx1, y1, width, height = results[0]['box']\n",
        "\t# bug fix\n",
        "\tx1, y1 = abs(x1), abs(y1)\n",
        "\tx2, y2 = x1 + width, y1 + height\n",
        "\t# extract the face\n",
        "\tface = pixels[y1:y2, x1:x2]\n",
        "\t# resize pixels to the model size\n",
        "\timage = Image.fromarray(face)\n",
        "\timage = image.resize(required_size)\n",
        "\tface_array = asarray(image)\n",
        "\treturn face_array"
      ],
      "execution_count": 6,
      "outputs": []
    },
    {
      "cell_type": "code",
      "metadata": {
        "id": "EfB_a1bHxGQn",
        "colab_type": "code",
        "colab": {}
      },
      "source": [
        "main_folder='/content/drive/My Drive/Final_Project/'\n",
        "images_folder=main_folder + 'face/'\n",
        "df_attr=pd.read_excel(main_folder+'gender_dataset.xlsx',)"
      ],
      "execution_count": 7,
      "outputs": []
    },
    {
      "cell_type": "code",
      "metadata": {
        "id": "24SMjg96xT3W",
        "colab_type": "code",
        "colab": {}
      },
      "source": [
        "# load images and extract faces for all images in a directory\n",
        "def load_faces(directory):\n",
        "\tfaces = list()\n",
        "\tfor filename in list(directory):\n",
        "\t\tpath=images_folder + filename\n",
        "\t\tface = extract_face(path)\n",
        "\t\tfaces.append(face)\n",
        "\treturn faces\n",
        "\t\n",
        "from sklearn.model_selection import train_test_split\n",
        "x=df_attr['Id_image']\n",
        "y=df_attr['Male']\n",
        "x_train,x_test,y_train,y_test=train_test_split(x,y,test_size=0.2,random_state=42)\n",
        "arr_faces_test=load_faces(x_test)\n",
        "savez_compressed('faces-dataset.npz', arr_faces_train, y_train, arr_faces_test, y_test)"
      ],
      "execution_count": null,
      "outputs": []
    },
    {
      "cell_type": "markdown",
      "metadata": {
        "id": "Ioa2mhhHFudf",
        "colab_type": "text"
      },
      "source": [
        "Face Embedding"
      ]
    },
    {
      "cell_type": "code",
      "metadata": {
        "id": "TiDfpG3nFvxd",
        "colab_type": "code",
        "colab": {
          "base_uri": "https://localhost:8080/",
          "height": 137
        },
        "outputId": "506babc0-600a-4f2f-8323-c24671419e8a"
      },
      "source": [
        "face_dataset=main_folder+'faces-dataset.npz'\n",
        "from keras.models import load_model\n",
        "def get_embedding(model, face_pixels):\n",
        "\t# scale pixel values\n",
        "\tface_pixels = face_pixels.astype('float32')/255.0\n",
        "\t# standardize pixel values across channels (global)\n",
        "\t#mean, std = face_pixels.mean(), face_pixels.std()\n",
        "\t#face_pixels = (face_pixels - mean) / std\n",
        "\t# transform face into one sample\n",
        "\tsamples = expand_dims(face_pixels, axis=0)\n",
        "\t# make prediction to get embedding\n",
        "\tyhat = model.predict(samples)\n",
        "\treturn yhat[0]\n",
        "\n",
        "data=np.load(face_dataset)\n",
        "trainX,trainY,testX,testY=data['arr_0'],data['arr_1'],data['arr_2'],data['arr_3']\n",
        "print('Loaded: ', trainX.shape, trainY.shape, testX.shape, testY.shape)\n",
        "model = load_model(main_folder+'facenet_keras.h5')\n",
        "print('Loaded Model')\n",
        "newTrainX = list()\n",
        "for face_pixels in trainX:\n",
        "\tembedding = get_embedding(model, face_pixels)\n",
        "\tnewTrainX.append(embedding)\n",
        "newTrainX = asarray(newTrainX)\n",
        "print(newTrainX.shape)\n",
        "# convert each face in the test set to an embedding\n",
        "newTestX = list()\n",
        "for face_pixels in testX:\n",
        "\tembedding = get_embedding(model, face_pixels)\n",
        "\tnewTestX.append(embedding)\n",
        "newTestX = asarray(newTestX)\n",
        "print(newTestX.shape)\n",
        "# save arrays to one file in compressed format\n",
        "savez_compressed('faces-embeddings.npz', newTrainX, trainY, newTestX, testY)\n",
        "\n"
      ],
      "execution_count": 9,
      "outputs": [
        {
          "output_type": "stream",
          "text": [
            "Loaded:  (1600, 160, 160, 3) (1600,) (400, 160, 160, 3) (400,)\n"
          ],
          "name": "stdout"
        },
        {
          "output_type": "stream",
          "text": [
            "/usr/local/lib/python3.6/dist-packages/keras/engine/saving.py:341: UserWarning: No training configuration found in save file: the model was *not* compiled. Compile it manually.\n",
            "  warnings.warn('No training configuration found in save file: '\n"
          ],
          "name": "stderr"
        },
        {
          "output_type": "stream",
          "text": [
            "Loaded Model\n",
            "(1600, 128)\n",
            "(400, 128)\n"
          ],
          "name": "stdout"
        }
      ]
    },
    {
      "cell_type": "markdown",
      "metadata": {
        "id": "Ymy09lYyP2d-",
        "colab_type": "text"
      },
      "source": [
        "StandardScaler \n"
      ]
    },
    {
      "cell_type": "code",
      "metadata": {
        "id": "RpDqtCb5P5t1",
        "colab_type": "code",
        "colab": {}
      },
      "source": [
        "# load dataset\n",
        "#data = np.load('faces-embeddings.npz')\n",
        "#trainX, trainY, testX, testY = data['arr_0'], data['arr_1'], data['arr_2'], data['arr_3']\n",
        "from sklearn.preprocessing import Normalizer\n",
        "# normalize input vectors\n",
        "in_encoder = Normalizer(norm='l2')\n",
        "newTrainX = in_encoder.transform(newTrainX)\n",
        "newTestX = in_encoder.transform(newTestX)"
      ],
      "execution_count": 14,
      "outputs": []
    },
    {
      "cell_type": "code",
      "metadata": {
        "id": "FYsXhuuEvXKQ",
        "colab_type": "code",
        "colab": {
          "base_uri": "https://localhost:8080/",
          "height": 234
        },
        "outputId": "36ace491-289e-46c4-b464-3c815db9a7cc"
      },
      "source": [
        "newTrainX"
      ],
      "execution_count": 15,
      "outputs": [
        {
          "output_type": "execute_result",
          "data": {
            "text/plain": [
              "array([[ 0.07275098,  0.0513428 , -0.10503177, ...,  0.033368  ,\n",
              "        -0.05006744,  0.0745522 ],\n",
              "       [ 0.14117606,  0.02114477, -0.0333598 , ..., -0.1593016 ,\n",
              "        -0.14777671, -0.09666583],\n",
              "       [-0.12818168, -0.1227126 ,  0.05822965, ..., -0.04477336,\n",
              "         0.0517816 ,  0.04847284],\n",
              "       ...,\n",
              "       [-0.05984053,  0.07965881, -0.04181508, ..., -0.1355505 ,\n",
              "         0.02351378,  0.04925385],\n",
              "       [ 0.07499793,  0.0777225 , -0.07009255, ..., -0.12750953,\n",
              "         0.05149288, -0.11747175],\n",
              "       [ 0.10971787, -0.00401484,  0.03095755, ..., -0.04839855,\n",
              "         0.04401036, -0.10745557]], dtype=float32)"
            ]
          },
          "metadata": {
            "tags": []
          },
          "execution_count": 15
        }
      ]
    },
    {
      "cell_type": "code",
      "metadata": {
        "id": "Vc_fsWxhj9BN",
        "colab_type": "code",
        "colab": {
          "base_uri": "https://localhost:8080/",
          "height": 117
        },
        "outputId": "9aabc414-69a0-4874-cc3a-4c1c06bdcd99"
      },
      "source": [
        "from sklearn.linear_model import LogisticRegression\n",
        "from sklearn.tree import DecisionTreeClassifier\n",
        "from sklearn.ensemble import RandomForestClassifier\n",
        "from sklearn.neighbors import KNeighborsClassifier\n",
        "from sklearn.naive_bayes import GaussianNB\n",
        "from sklearn.svm import SVC\n",
        "models = []\n",
        "models.append(('LR', LogisticRegression(solver='liblinear', multi_class='ovr')))\n",
        "models.append(('KNN', KNeighborsClassifier()))\n",
        "models.append(('RF', RandomForestClassifier()))\n",
        "models.append(('DTC', DecisionTreeClassifier()))\n",
        "models.append(('NB', GaussianNB()))\n",
        "models.append(('SVM', SVC(gamma='auto')))\n",
        "from sklearn.model_selection import cross_val_score\n",
        "results = []\n",
        "names = []\n",
        "for name, model in models:\n",
        "  \tcv_results = cross_val_score(model, newTrainX,trainY, cv=10, scoring='accuracy')\n",
        "  \tresults.append(cv_results)\n",
        "  \tnames.append(name)\n",
        "  \tprint(name, cv_results.mean()) "
      ],
      "execution_count": 30,
      "outputs": [
        {
          "output_type": "stream",
          "text": [
            "LR 0.911875\n",
            "KNN 0.97875\n",
            "RF 0.9362499999999999\n",
            "DTC 0.771875\n",
            "NB 0.8975\n",
            "SVM 0.821875\n"
          ],
          "name": "stdout"
        }
      ]
    },
    {
      "cell_type": "code",
      "metadata": {
        "id": "sNsUx_UbRGTl",
        "colab_type": "code",
        "colab": {
          "base_uri": "https://localhost:8080/",
          "height": 67
        },
        "outputId": "7d3e9a15-04ce-444b-f646-95f1356c6a2c"
      },
      "source": [
        "pre_model=KNeighborsClassifier()\n",
        "pre_model.fit(newTrainX,trainY)"
      ],
      "execution_count": 46,
      "outputs": [
        {
          "output_type": "execute_result",
          "data": {
            "text/plain": [
              "KNeighborsClassifier(algorithm='auto', leaf_size=30, metric='minkowski',\n",
              "                     metric_params=None, n_jobs=None, n_neighbors=5, p=2,\n",
              "                     weights='uniform')"
            ]
          },
          "metadata": {
            "tags": []
          },
          "execution_count": 46
        }
      ]
    },
    {
      "cell_type": "code",
      "metadata": {
        "id": "gUZrg_IkUlWb",
        "colab_type": "code",
        "colab": {}
      },
      "source": [
        "predict_train=pre_model.predict(newTrainX)"
      ],
      "execution_count": 50,
      "outputs": []
    },
    {
      "cell_type": "code",
      "metadata": {
        "id": "615TuRbKRfBU",
        "colab_type": "code",
        "colab": {}
      },
      "source": [
        "predict_y=pre_model.predict(newTestX)"
      ],
      "execution_count": 51,
      "outputs": []
    },
    {
      "cell_type": "code",
      "metadata": {
        "id": "COS1MdGvR85o",
        "colab_type": "code",
        "colab": {
          "base_uri": "https://localhost:8080/",
          "height": 50
        },
        "outputId": "e3b4f850-3987-4a5c-c801-97854b138af3"
      },
      "source": [
        "from sklearn.metrics import accuracy_score\n",
        "print(accuracy_score(testY, predict_y))\n",
        "accuracy_score(trainY,predict_train)"
      ],
      "execution_count": 52,
      "outputs": [
        {
          "output_type": "stream",
          "text": [
            "0.98\n"
          ],
          "name": "stdout"
        },
        {
          "output_type": "execute_result",
          "data": {
            "text/plain": [
              "0.98375"
            ]
          },
          "metadata": {
            "tags": []
          },
          "execution_count": 52
        }
      ]
    },
    {
      "cell_type": "code",
      "metadata": {
        "id": "CAY0ZXoZy4tb",
        "colab_type": "code",
        "colab": {}
      },
      "source": [
        "def Prediction(img,model=final_model,train=newTrainX):\n",
        "   \n"
      ],
      "execution_count": null,
      "outputs": []
    },
    {
      "cell_type": "code",
      "metadata": {
        "id": "qXYeQcFMtoVh",
        "colab_type": "code",
        "colab": {
          "base_uri": "https://localhost:8080/",
          "height": 33
        },
        "outputId": "86e27403-ef39-406f-94ee-175646bea048"
      },
      "source": [
        "from google.colab import files\n",
        "pixel=extract_face('/content/106982430_275784823523834_8056213101156876322_n.jpg')\n",
        "arr=get_embedding(model,pixel)\n",
        "samples = expand_dims(arr, axis=0)\n",
        "pre=final_model.predict(samples)\n",
        "if (pre[0]==0): print(\"Nu\")\n",
        "else: print(\"Nam\")\n"
      ],
      "execution_count": 108,
      "outputs": [
        {
          "output_type": "stream",
          "text": [
            "Nam\n"
          ],
          "name": "stdout"
        }
      ]
    },
    {
      "cell_type": "code",
      "metadata": {
        "id": "d7v5UKCU0BZm",
        "colab_type": "code",
        "colab": {
          "base_uri": "https://localhost:8080/",
          "height": 286
        },
        "outputId": "954e08af-16f3-43c9-dd96-57c5e163b6ee"
      },
      "source": [
        "im=Image.open('/content/106982430_275784823523834_8056213101156876322_n.jpg')\n",
        "im=asarray(im)\n",
        "plt.imshow(im)"
      ],
      "execution_count": 107,
      "outputs": [
        {
          "output_type": "execute_result",
          "data": {
            "text/plain": [
              "<matplotlib.image.AxesImage at 0x7f4f80c2b860>"
            ]
          },
          "metadata": {
            "tags": []
          },
          "execution_count": 107
        },
        {
          "output_type": "display_data",
          "data": {
            "image/png": "[encoded data removed]",
            "text/plain": [
              "<Figure size 432x288 with 1 Axes>"
            ]
          },
          "metadata": {
            "tags": [],
            "needs_background": "light"
          }
        }
      ]
    },
    {
      "cell_type": "code",
      "metadata": {
        "id": "JPh5hr1V1Wj_",
        "colab_type": "code",
        "colab": {
          "base_uri": "https://localhost:8080/",
          "height": 33
        },
        "outputId": "44193bee-33cc-49f5-fa3e-e62a6ee90e91"
      },
      "source": [
        ""
      ],
      "execution_count": null,
      "outputs": [
        {
          "output_type": "execute_result",
          "data": {
            "text/plain": [
              "{'kernel': 'rbf'}"
            ]
          },
          "metadata": {
            "tags": []
          },
          "execution_count": 41
        }
      ]
    }
  ]
}