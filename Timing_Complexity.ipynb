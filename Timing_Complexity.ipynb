{
  "nbformat": 4,
  "nbformat_minor": 0,
  "metadata": {
    "colab": {
      "name": "Timing_Complexity.ipynb",
      "provenance": [],
      "authorship_tag": "ABX9TyPD+kiLKIqHnx242ua+x/ak",
      "include_colab_link": true
    },
    "kernelspec": {
      "name": "python3",
      "display_name": "Python 3"
    }
  },
  "cells": [
    {
      "cell_type": "markdown",
      "metadata": {
        "id": "view-in-github",
        "colab_type": "text"
      },
      "source": [
        "<a href=\"https://colab.research.google.com/github/lephuocdat2000/-CS114.K21-/blob/master/Timing_Complexity.ipynb\" target=\"_parent\"><img src=\"https://colab.research.google.com/assets/colab-badge.svg\" alt=\"Open In Colab\"/></a>"
      ]
    },
    {
      "cell_type": "code",
      "metadata": {
        "id": "4WYDzODRVo4c",
        "colab_type": "code",
        "colab": {}
      },
      "source": [
        "import pandas as pd\n",
        "import numpy as np\n",
        "import seaborn as sns\n",
        "import matplotlib\n",
        "import matplotlib.pyplot as plt\n",
        "from pandas.plotting import scatter_matrix\n",
        "from matplotlib import pyplot \n",
        "from sklearn.model_selection import train_test_split\n",
        "from sklearn import preprocessing \n",
        "from sklearn.linear_model import LinearRegression\n",
        "from sklearn.preprocessing import PolynomialFeatures\n",
        "from sklearn.pipeline import make_pipeline\n",
        "from sklearn.metrics import accuracy_score"
      ],
      "execution_count": 0,
      "outputs": []
    },
    {
      "cell_type": "code",
      "metadata": {
        "id": "AnK7e-ZQVdpS",
        "colab_type": "code",
        "outputId": "cb63485d-8a62-440e-f66d-583f96b9da89",
        "colab": {
          "base_uri": "https://localhost:8080/",
          "height": 201
        }
      },
      "source": [
        "!wget https://cs.uit.edu.vn/data.txt"
      ],
      "execution_count": 2,
      "outputs": [
        {
          "output_type": "stream",
          "text": [
            "--2020-06-10 07:41:32--  https://cs.uit.edu.vn/data.txt\n",
            "Resolving cs.uit.edu.vn (cs.uit.edu.vn)... 118.69.123.142\n",
            "Connecting to cs.uit.edu.vn (cs.uit.edu.vn)|118.69.123.142|:443... connected.\n",
            "HTTP request sent, awaiting response... 200 OK\n",
            "Length: 84410 (82K) [text/plain]\n",
            "Saving to: ‘data.txt’\n",
            "\n",
            "\rdata.txt              0%[                    ]       0  --.-KB/s               \rdata.txt            100%[===================>]  82.43K  --.-KB/s    in 0.04s   \n",
            "\n",
            "2020-06-10 07:41:32 (2.12 MB/s) - ‘data.txt’ saved [84410/84410]\n",
            "\n"
          ],
          "name": "stdout"
        }
      ]
    },
    {
      "cell_type": "code",
      "metadata": {
        "id": "Z-wcJQTGW1K6",
        "colab_type": "code",
        "outputId": "2c41e9d2-53ed-429c-ded4-804a3e907677",
        "colab": {
          "base_uri": "https://localhost:8080/",
          "height": 33
        }
      },
      "source": [
        "!ls"
      ],
      "execution_count": 3,
      "outputs": [
        {
          "output_type": "stream",
          "text": [
            "data.txt  sample_data\n"
          ],
          "name": "stdout"
        }
      ]
    },
    {
      "cell_type": "code",
      "metadata": {
        "id": "dw9jdl6bV9uG",
        "colab_type": "code",
        "outputId": "7af65c70-78e6-42c9-a296-0b3be98b4014",
        "colab": {
          "base_uri": "https://localhost:8080/",
          "height": 294
        }
      },
      "source": [
        "data=pd.read_csv('data.txt',header=None)\n",
        "data.columns=['Complexity','Timing']\n",
        "plt.scatter(data['Complexity'],data['Timing'])"
      ],
      "execution_count": 4,
      "outputs": [
        {
          "output_type": "execute_result",
          "data": {
            "text/plain": [
              "<matplotlib.collections.PathCollection at 0x7f23ff608278>"
            ]
          },
          "metadata": {
            "tags": []
          },
          "execution_count": 4
        },
        {
          "output_type": "display_data",
          "data": {
            "image/png": "[encoded data removed]",
            "text/plain": [
              "<Figure size 432x288 with 1 Axes>"
            ]
          },
          "metadata": {
            "tags": [],
            "needs_background": "light"
          }
        }
      ]
    },
    {
      "cell_type": "code",
      "metadata": {
        "id": "FCwGwQ3lOzrb",
        "colab_type": "code",
        "colab": {
          "base_uri": "https://localhost:8080/",
          "height": 67
        },
        "outputId": "0042014b-4c9c-45b3-aea3-726ca86351b9"
      },
      "source": [
        "x=data[['Complexity']]\n",
        "y=data[['Timing']]\n",
        "X_train,X_test,y_train,y_test=train_test_split(x,y,test_size=0.2,random_state=1,)\n",
        "#check missingdata\n",
        "all_data_na=(data.isnull().sum())/len(data)*100\n",
        "all_data_na"
      ],
      "execution_count": 12,
      "outputs": [
        {
          "output_type": "execute_result",
          "data": {
            "text/plain": [
              "Complexity    0.0\n",
              "Timing        0.0\n",
              "dtype: float64"
            ]
          },
          "metadata": {
            "tags": []
          },
          "execution_count": 12
        }
      ]
    },
    {
      "cell_type": "code",
      "metadata": {
        "id": "hArKfP4cN6si",
        "colab_type": "code",
        "colab": {
          "base_uri": "https://localhost:8080/",
          "height": 33
        },
        "outputId": "24400e41-9472-4fba-9c12-0727ce3b63dd"
      },
      "source": [
        "y_train.values.shape"
      ],
      "execution_count": 23,
      "outputs": [
        {
          "output_type": "execute_result",
          "data": {
            "text/plain": [
              "(4168, 1)"
            ]
          },
          "metadata": {
            "tags": []
          },
          "execution_count": 23
        }
      ]
    },
    {
      "cell_type": "code",
      "metadata": {
        "id": "HDhFfo-46HQY",
        "colab_type": "code",
        "colab": {}
      },
      "source": [
        "def Feature_Engineering(x):\n",
        "   #feature scaling: min-max normalization\n",
        "   print(x.shape)\n",
        "   square=np.power(x,2)\n",
        "   log_arr=(np.log2(x,where=(x!=0)))*x\n",
        "   x=np.append(x,square,axis=1)\n",
        "   x=np.append(x,log_arr,axis=1)\n",
        "   min_max_scaler = preprocessing.MinMaxScaler(feature_range =(0, 1)) \n",
        "   x_after_mmscaler=min_max_scaler.fit_transform(x) \n",
        "   print(x.shape)"
      ],
      "execution_count": 0,
      "outputs": []
    },
    {
      "cell_type": "code",
      "metadata": {
        "id": "xTdt42hh7HdG",
        "colab_type": "code",
        "outputId": "665a7703-773a-4a95-f236-653a7a1d63e0",
        "colab": {
          "base_uri": "https://localhost:8080/",
          "height": 328
        }
      },
      "source": [
        "poly_model=make_pipeline(Feature_Engineering(x),\n",
        "                         LinearRegression())\n",
        "poly_model.fit(X_train.values,y_train.values)\n",
        "y_fit=poly_model.predict(X_train.values)\n",
        "plt.scatter(X_train,y_train)\n",
        "plt.plot(X_train,y_fit,'go')"
      ],
      "execution_count": 28,
      "outputs": [
        {
          "output_type": "stream",
          "text": [
            "(5211, 1)\n",
            "(5211, 3)\n"
          ],
          "name": "stdout"
        },
        {
          "output_type": "execute_result",
          "data": {
            "text/plain": [
              "[<matplotlib.lines.Line2D at 0x7f23fb2d3470>]"
            ]
          },
          "metadata": {
            "tags": []
          },
          "execution_count": 28
        },
        {
          "output_type": "display_data",
          "data": {
            "image/png": "[encoded data removed]",
            "text/plain": [
              "<Figure size 432x288 with 1 Axes>"
            ]
          },
          "metadata": {
            "tags": [],
            "needs_background": "light"
          }
        }
      ]
    },
    {
      "cell_type": "code",
      "metadata": {
        "id": "AskoVrjspp1o",
        "colab_type": "code",
        "outputId": "e582c43e-efc0-4a2f-e1b1-5a5292b23d84",
        "colab": {
          "base_uri": "https://localhost:8080/",
          "height": 299
        }
      },
      "source": [
        "y_predict=poly_model.predict(X_test.values)\n",
        "plt.scatter(X_test.values,y_test.values)\n",
        "plt.plot(X_test.values,y_predict,'go')"
      ],
      "execution_count": 29,
      "outputs": [
        {
          "output_type": "execute_result",
          "data": {
            "text/plain": [
              "[<matplotlib.lines.Line2D at 0x7f23fb070cf8>]"
            ]
          },
          "metadata": {
            "tags": []
          },
          "execution_count": 29
        },
        {
          "output_type": "display_data",
          "data": {
            "image/png": "[encoded data removed]",
            "text/plain": [
              "<Figure size 432x288 with 1 Axes>"
            ]
          },
          "metadata": {
            "tags": [],
            "needs_background": "light"
          }
        }
      ]
    },
    {
      "cell_type": "code",
      "metadata": {
        "id": "IFncBXUDtH6N",
        "colab_type": "code",
        "outputId": "86ae5b66-051d-4c76-bca6-cf2f3ed7e6e1",
        "colab": {
          "base_uri": "https://localhost:8080/",
          "height": 33
        }
      },
      "source": [
        "def Prediction(x,train=X_train,model=poly_model):\n",
        "   arr_x=np.array([x])\n",
        "   pred=model.predict(arr_x[:,np.newaxis])\n",
        "   print(pred[0][0])\n",
        "Prediction(5636284)"
      ],
      "execution_count": 51,
      "outputs": [
        {
          "output_type": "stream",
          "text": [
            "1.5469514208462225\n"
          ],
          "name": "stdout"
        }
      ]
    }
  ]
}