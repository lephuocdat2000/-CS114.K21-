{
  "nbformat": 4,
  "nbformat_minor": 0,
  "metadata": {
    "colab": {
      "name": "Timing_Complexity.ipynb",
      "provenance": [],
      "authorship_tag": "ABX9TyP4nCShnSWwmhkSR5Af6VxA",
      "include_colab_link": true
    },
    "kernelspec": {
      "name": "python3",
      "display_name": "Python 3"
    }
  },
  "cells": [
    {
      "cell_type": "markdown",
      "metadata": {
        "id": "view-in-github",
        "colab_type": "text"
      },
      "source": [
        "<a href=\"https://colab.research.google.com/github/lephuocdat2000/-CS114.K21-/blob/master/Timing_Complexity.ipynb\" target=\"_parent\"><img src=\"https://colab.research.google.com/assets/colab-badge.svg\" alt=\"Open In Colab\"/></a>"
      ]
    },
    {
      "cell_type": "code",
      "metadata": {
        "id": "4WYDzODRVo4c",
        "colab_type": "code",
        "colab": {}
      },
      "source": [
        "import pandas as pd\n",
        "import numpy as np\n",
        "import seaborn as sns\n",
        "import matplotlib\n",
        "import matplotlib.pyplot as plt\n",
        "from pandas.plotting import scatter_matrix\n",
        "from matplotlib import pyplot \n",
        "from sklearn.model_selection import train_test_split\n",
        "from sklearn import preprocessing \n",
        "from sklearn.linear_model import LinearRegression\n",
        "from sklearn.preprocessing import PolynomialFeatures\n",
        "from sklearn.pipeline import make_pipeline"
      ],
      "execution_count": 0,
      "outputs": []
    },
    {
      "cell_type": "code",
      "metadata": {
        "id": "AnK7e-ZQVdpS",
        "colab_type": "code",
        "outputId": "fa5e9e4f-5829-45dd-a285-12ec2740e336",
        "colab": {
          "base_uri": "https://localhost:8080/",
          "height": 201
        }
      },
      "source": [
        "!wget https://cs.uit.edu.vn/data.txt"
      ],
      "execution_count": 243,
      "outputs": [
        {
          "output_type": "stream",
          "text": [
            "--2020-06-09 17:05:50--  https://cs.uit.edu.vn/data.txt\n",
            "Resolving cs.uit.edu.vn (cs.uit.edu.vn)... 118.69.123.142\n",
            "Connecting to cs.uit.edu.vn (cs.uit.edu.vn)|118.69.123.142|:443... connected.\n",
            "HTTP request sent, awaiting response... 200 OK\n",
            "Length: 84410 (82K) [text/plain]\n",
            "Saving to: ‘data.txt.1’\n",
            "\n",
            "data.txt.1          100%[===================>]  82.43K   370KB/s    in 0.2s    \n",
            "\n",
            "2020-06-09 17:05:52 (370 KB/s) - ‘data.txt.1’ saved [84410/84410]\n",
            "\n"
          ],
          "name": "stdout"
        }
      ]
    },
    {
      "cell_type": "code",
      "metadata": {
        "id": "Z-wcJQTGW1K6",
        "colab_type": "code",
        "outputId": "b6ee259b-1a13-4c4f-838d-b6b92cda0ed2",
        "colab": {
          "base_uri": "https://localhost:8080/",
          "height": 33
        }
      },
      "source": [
        "!ls"
      ],
      "execution_count": 244,
      "outputs": [
        {
          "output_type": "stream",
          "text": [
            "data.txt  data.txt.1  sample_data\n"
          ],
          "name": "stdout"
        }
      ]
    },
    {
      "cell_type": "code",
      "metadata": {
        "id": "dw9jdl6bV9uG",
        "colab_type": "code",
        "colab": {
          "base_uri": "https://localhost:8080/",
          "height": 294
        },
        "outputId": "94d64b16-cf06-4a78-f11f-9ca40790445c"
      },
      "source": [
        "data=pd.read_csv('data.txt',header=None)\n",
        "data.columns=['Complexity','Timing']\n",
        "plt.scatter(data['Complexity'],data['Timing'])"
      ],
      "execution_count": 245,
      "outputs": [
        {
          "output_type": "execute_result",
          "data": {
            "text/plain": [
              "<matplotlib.collections.PathCollection at 0x7f3d10de9828>"
            ]
          },
          "metadata": {
            "tags": []
          },
          "execution_count": 245
        },
        {
          "output_type": "display_data",
          "data": {
            "image/png": "[encoded data removed]",
            "text/plain": [
              "<Figure size 432x288 with 1 Axes>"
            ]
          },
          "metadata": {
            "tags": [],
            "needs_background": "light"
          }
        }
      ]
    },
    {
      "cell_type": "code",
      "metadata": {
        "id": "FCwGwQ3lOzrb",
        "colab_type": "code",
        "colab": {}
      },
      "source": [
        "#data=data.assign(Square=np.power(data['Complexity'],2),Logarit=np.log2(data['Complexity'])*data['Complexity'])\n",
        "#feature scaling: min-max normalization\n",
        "\n",
        "min_max_scaler = preprocessing.MinMaxScaler(feature_range =(0, 1)) \n",
        "data_after_mmscaler=min_max_scaler.fit_transform(data) \n",
        "data_after_mmscaler=pd.DataFrame(data_after_mmscaler,columns=data.columns)"
      ],
      "execution_count": 0,
      "outputs": []
    },
    {
      "cell_type": "code",
      "metadata": {
        "id": "iqyT-7vHNPTc",
        "colab_type": "code",
        "colab": {
          "base_uri": "https://localhost:8080/",
          "height": 67
        },
        "outputId": "0cd01fb8-78fc-4929-d9c4-a4d64c38d32f"
      },
      "source": [
        "#x=data_after_mmscaler[['Complexity','Square','Logarit']]\n",
        "x=data_after_mmscaler['Complexity']\n",
        "y=data_after_mmscaler['Timing']\n",
        "X_train,X_test,y_train,y_test=train_test_split(x,y,test_size=0.2,random_state=1,)\n",
        "\n",
        "#check missingdata\n",
        "all_data_na=(data.isnull().sum())/len(data)*100\n",
        "all_data_na"
      ],
      "execution_count": 249,
      "outputs": [
        {
          "output_type": "execute_result",
          "data": {
            "text/plain": [
              "Complexity    0.0\n",
              "Timing        0.0\n",
              "dtype: float64"
            ]
          },
          "metadata": {
            "tags": []
          },
          "execution_count": 249
        }
      ]
    },
    {
      "cell_type": "code",
      "metadata": {
        "id": "HDhFfo-46HQY",
        "colab_type": "code",
        "colab": {}
      },
      "source": [
        "def Transform(x):\n",
        "   x=np.resize(x,[len(x),1])\n",
        "   print(x.shape)\n",
        "   square=np.power(x,2)\n",
        "   log_arr=(np.log2(x,where=(x!=0)))*x\n",
        "   x=np.append(x,square,axis=1)\n",
        "   x=np.append(x,log_arr,axis=1)\n",
        "   print(x.shape)"
      ],
      "execution_count": 0,
      "outputs": []
    },
    {
      "cell_type": "code",
      "metadata": {
        "id": "xTdt42hh7HdG",
        "colab_type": "code",
        "colab": {
          "base_uri": "https://localhost:8080/",
          "height": 315
        },
        "outputId": "850a0da9-7fe2-4786-8151-a9c843a714dc"
      },
      "source": [
        "poly_model=make_pipeline(Transform(x),\n",
        "                         LinearRegression())\n",
        "poly_model.fit(X_train.values[:,np.newaxis],y_train.values)\n",
        "y_fit=poly_model.predict(X_train.values[:,np.newaxis])\n",
        "plt.scatter(X_train,y_train)\n",
        "plt.plot(X_train,y_fit,'go')"
      ],
      "execution_count": 311,
      "outputs": [
        {
          "output_type": "stream",
          "text": [
            "(5211, 1)\n",
            "(5211, 3)\n"
          ],
          "name": "stdout"
        },
        {
          "output_type": "execute_result",
          "data": {
            "text/plain": [
              "[<matplotlib.lines.Line2D at 0x7f3d10449470>]"
            ]
          },
          "metadata": {
            "tags": []
          },
          "execution_count": 311
        },
        {
          "output_type": "display_data",
          "data": {
            "image/png": "[encoded data removed]",
            "text/plain": [
              "<Figure size 432x288 with 1 Axes>"
            ]
          },
          "metadata": {
            "tags": [],
            "needs_background": "light"
          }
        }
      ]
    },
    {
      "cell_type": "code",
      "metadata": {
        "id": "AskoVrjspp1o",
        "colab_type": "code",
        "colab": {
          "base_uri": "https://localhost:8080/",
          "height": 281
        },
        "outputId": "2abd78a5-2f37-4adc-bdf2-1b6dd650abcc"
      },
      "source": [
        "y_predict=poly_model.predict(X_test.values[:,np.newaxis])\n",
        "plt.scatter(X_test.values,y_test.values)\n",
        "plt.plot(X_test.values,y_predict,'go')"
      ],
      "execution_count": 312,
      "outputs": [
        {
          "output_type": "execute_result",
          "data": {
            "text/plain": [
              "[<matplotlib.lines.Line2D at 0x7f3d104497f0>]"
            ]
          },
          "metadata": {
            "tags": []
          },
          "execution_count": 312
        },
        {
          "output_type": "display_data",
          "data": {
            "image/png": "[encoded data removed]",
            "text/plain": [
              "<Figure size 432x288 with 1 Axes>"
            ]
          },
          "metadata": {
            "tags": [],
            "needs_background": "light"
          }
        }
      ]
    },
    {
      "cell_type": "code",
      "metadata": {
        "id": "IFncBXUDtH6N",
        "colab_type": "code",
        "colab": {
          "base_uri": "https://localhost:8080/",
          "height": 33
        },
        "outputId": "4660df12-0715-4bc5-9709-0445bde28a46"
      },
      "source": [
        "def Prediction(x,train=X_train,model=poly_model):\n",
        "   arr_x=np.array([x])\n",
        "   pred=model.predict(arr_x[:,np.newaxis])\n",
        "   print(pred)\n",
        "Prediction(2055486)"
      ],
      "execution_count": 314,
      "outputs": [
        {
          "output_type": "stream",
          "text": [
            "[1760371.121242]\n"
          ],
          "name": "stdout"
        }
      ]
    }
  ]
}