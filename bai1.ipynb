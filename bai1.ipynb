{
  "nbformat": 4,
  "nbformat_minor": 0,
  "metadata": {
    "colab": {
      "name": "Untitled14.ipynb",
      "provenance": [],
      "authorship_tag": "ABX9TyNEoIi4ZoC908ahkpI/tvL9",
      "include_colab_link": true
    },
    "kernelspec": {
      "name": "python3",
      "display_name": "Python 3"
    }
  },
  "cells": [
    {
      "cell_type": "markdown",
      "metadata": {
        "id": "view-in-github",
        "colab_type": "text"
      },
      "source": [
        "<a href=\"https://colab.research.google.com/github/lephuocdat2000/-CS114.K21-/blob/master/bai1.ipynb\" target=\"_parent\"><img src=\"https://colab.research.google.com/assets/colab-badge.svg\" alt=\"Open In Colab\"/></a>"
      ]
    },
    {
      "cell_type": "code",
      "metadata": {
        "id": "c9KNFH35bwRK",
        "colab_type": "code",
        "outputId": "62db2338-7219-4e55-f188-2d8e275312b1",
        "colab": {
          "base_uri": "https://localhost:8080/",
          "height": 50
        }
      },
      "source": [
        "s='tour'\n",
        "s.lower()\n",
        "t='aoeyui'\n",
        "for i in s:\n",
        "   if (t.find(i)!=-1): s=s.replace(i,\".\")\n",
        "s=s.rjust(len(s)+1,\".\")\n",
        "print(s)\n",
        "s=list(s)\n",
        "for i in range(0,len(s)-1):\n",
        "  if s[i]=='.' and s[i]==s[i+1]:\n",
        "    for j in range(i+1,len(s)):\n",
        "       s[j-1]=s[j] \n",
        "s[len(s)-1]=''\n",
        "for i in s:\n",
        "  print(i,end='')"
      ],
      "execution_count": 54,
      "outputs": [
        {
          "output_type": "stream",
          "text": [
            ".t..r\n",
            ".t.r"
          ],
          "name": "stdout"
        }
      ]
    },
    {
      "cell_type": "code",
      "metadata": {
        "id": "QxhOwbA_pWC1",
        "colab_type": "code",
        "colab": {}
      },
      "source": [
        ""
      ],
      "execution_count": 0,
      "outputs": []
    }
  ]
}