{
  "nbformat": 4,
  "nbformat_minor": 0,
  "metadata": {
    "colab": {
      "name": "CapstoneProject.ipynb",
      "provenance": [],
      "authorship_tag": "ABX9TyNzu01/OPQGl4rHnYUsOOoZ",
      "include_colab_link": true
    },
    "kernelspec": {
      "name": "python3",
      "display_name": "Python 3"
    }
  },
  "cells": [
    {
      "cell_type": "markdown",
      "metadata": {
        "id": "view-in-github",
        "colab_type": "text"
      },
      "source": [
        "<a href=\"https://colab.research.google.com/github/lephuocdat2000/-CS114.K21-/blob/master/CapstoneProject.ipynb\" target=\"_parent\"><img src=\"https://colab.research.google.com/assets/colab-badge.svg\" alt=\"Open In Colab\"/></a>"
      ]
    },
    {
      "cell_type": "markdown",
      "metadata": {
        "id": "N8vY_igTV-eb",
        "colab_type": "text"
      },
      "source": [
        "**MÔ TẢ ĐỒ ÁN CUỐI KÌ**"
      ]
    },
    {
      "cell_type": "markdown",
      "metadata": {
        "id": "eVgkzjWqWOGL",
        "colab_type": "text"
      },
      "source": [
        "Sinh viên thực hiện: Lê Phước Đạt\n"
      ]
    },
    {
      "cell_type": "markdown",
      "metadata": {
        "id": "DdYPPzVaWTNX",
        "colab_type": "text"
      },
      "source": [
        "MSSV: 18520017"
      ]
    },
    {
      "cell_type": "markdown",
      "metadata": {
        "id": "W4j5OjnYomU2",
        "colab_type": "text"
      },
      "source": [
        "**Mô tả bài toán**: Bài toán nhận dạng giới tính là nam hay nữ thông qua ảnh khuôn mặt \n",
        " "
      ]
    },
    {
      "cell_type": "markdown",
      "metadata": {
        "id": "QnhaOdP9on7H",
        "colab_type": "text"
      },
      "source": [
        " + Input: Bức ảnh chụp khuôn mặt người ( không mang đồ che khuôn mặt: khẩu trang,mũ bảo hiểm có kính,...)\n"
      ]
    },
    {
      "cell_type": "markdown",
      "metadata": {
        "id": "fmOeWl28o1ga",
        "colab_type": "text"
      },
      "source": [
        "  + Output: Giới tính ( nam hoặc nữ )"
      ]
    },
    {
      "cell_type": "markdown",
      "metadata": {
        "id": "DfnUAS2Mozmo",
        "colab_type": "text"
      },
      "source": [
        "**Mô tả bộ dữ liệu:**"
      ]
    },
    {
      "cell_type": "markdown",
      "metadata": {
        "id": "gtefI370qth4",
        "colab_type": "text"
      },
      "source": [
        "  + Gồm 2000 bức ảnh được trích ra từ bộ dữ liệu CelebA ( 200 000 bức ảnh của người nổi tiếng)"
      ]
    },
    {
      "cell_type": "markdown",
      "metadata": {
        "id": "lVIhMoUuUH88",
        "colab_type": "text"
      },
      "source": [
        "+ 200 bức ảnh trích ra từ bộ dữ liệu UTK_face(20 000 ảnh chụp khuôn mặt người với độ da dạng về độ tuổi hơn) "
      ]
    },
    {
      "cell_type": "markdown",
      "metadata": {
        "id": "-930CNhrXz77",
        "colab_type": "text"
      },
      "source": [
        "+ Tổng cộng có 919 bức ảnh là nam và 1281 bức ảnh là nữ"
      ]
    },
    {
      "cell_type": "markdown",
      "metadata": {
        "id": "0_050za2pWeD",
        "colab_type": "text"
      },
      "source": [
        "   + Tiền xử lí dữ liệu: Loại bỏ những bức ảnh chụp khuôn mặt có góc nghiêng hơn 45 độ => Tránh gây nhiễu khi model học, sai lệch cách đánh giá"
      ]
    },
    {
      "cell_type": "markdown",
      "metadata": {
        "id": "i3Fy3475quhx",
        "colab_type": "text"
      },
      "source": [
        "   + Phân chia bộ dữ liệu: train 80% test 20%"
      ]
    },
    {
      "cell_type": "markdown",
      "metadata": {
        "id": "X-7pzvRUqqTh",
        "colab_type": "text"
      },
      "source": [
        "**Mô tả đặc trưng:**"
      ]
    },
    {
      "cell_type": "markdown",
      "metadata": {
        "id": "8iqbNYTUrmk0",
        "colab_type": "text"
      },
      "source": [
        " + Feature là giá trị các điểm ảnh được trích xuất ra từ các cột mốc trên khuôn mặt ( 2 mắt, mũi, miệng) bằng phương pháp Multi Task Convolution Neural Network "
      ]
    },
    {
      "cell_type": "markdown",
      "metadata": {
        "id": "s25pydHWrjJE",
        "colab_type": "text"
      },
      "source": [
        " + Là một mảng gồm 128 dòng, n cột"
      ]
    },
    {
      "cell_type": "markdown",
      "metadata": {
        "id": "3lJICC-0sKWw",
        "colab_type": "text"
      },
      "source": [
        "**Mô tả về thuật toán máy học:**"
      ]
    },
    {
      "cell_type": "markdown",
      "metadata": {
        "id": "LQCz8VLFsQgW",
        "colab_type": "text"
      },
      "source": [
        " + Sử dụng các thuật toán máy học phổ biến trong bài toán classification của Machine Learning:  LogisticRegression, DecisionTreeClassifier,RandomForestClassifier,KNeighborsClassifier,GaussianNB "
      ]
    },
    {
      "cell_type": "markdown",
      "metadata": {
        "id": "PahEiyGI3zbm",
        "colab_type": "text"
      },
      "source": [
        " + Đánh giá hệ số f1 thì thấy được KNeighborsClassifier và Support Vector Machine là 2 model phù hợp nhất nên chọn 2 model này để dự đoán"
      ]
    },
    {
      "cell_type": "markdown",
      "metadata": {
        "id": "Gz21wYCD4C48",
        "colab_type": "text"
      },
      "source": [
        "**Tinh chỉnh tham số:**"
      ]
    },
    {
      "cell_type": "markdown",
      "metadata": {
        "id": "xOq33CCM4GRH",
        "colab_type": "text"
      },
      "source": [
        "  + Sử dụng GridSearchCV để tìm tham số mà model đạt hiệu suất tốt nhất "
      ]
    },
    {
      "cell_type": "markdown",
      "metadata": {
        "id": "0TjtZ46v4VGm",
        "colab_type": "text"
      },
      "source": [
        "   + Tham số được điều chỉnh là n_neighbors=10 và weights='distance' của model KNeighborsClassifier"
      ]
    },
    {
      "cell_type": "markdown",
      "metadata": {
        "id": "dEn-_Nyj4c9j",
        "colab_type": "text"
      },
      "source": [
        "**Đánh giá kết quả và kết luận:** "
      ]
    },
    {
      "cell_type": "markdown",
      "metadata": {
        "id": "JIswBCod4hPG",
        "colab_type": "text"
      },
      "source": [
        "   + Model đạt hiệu suất tốt trên khuôn mặt của người trưởng thành tuy nhiên vẫn còn sai lệch nhiều trong việc dự đoán giới tính ở khuôn mặt trẻ sơ sinh và người già cao tuổi bởi vì hai độ tuổi này là hai độ tuổi khó có thể nhận biết được thậm chí bằng mắt người"
      ]
    },
    {
      "cell_type": "markdown",
      "metadata": {
        "id": "NOjDz6XI5TlI",
        "colab_type": "text"
      },
      "source": [
        " + Cần tăng thêm kích thước dataset về trẻ sơ sinh và người già cao tuổi để tăng độ chính xác cho model"
      ]
    }
  ]
}