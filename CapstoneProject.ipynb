{
  "nbformat": 4,
  "nbformat_minor": 0,
  "metadata": {
    "colab": {
      "name": "CapstoneProject.ipynb",
      "provenance": [],
      "authorship_tag": "ABX9TyM2U3b1R6+CYT41DuCe3Ji1",
      "include_colab_link": true
    },
    "kernelspec": {
      "name": "python3",
      "display_name": "Python 3"
    }
  },
  "cells": [
    {
      "cell_type": "markdown",
      "metadata": {
        "id": "view-in-github",
        "colab_type": "text"
      },
      "source": [
        "<a href=\"https://colab.research.google.com/github/lephuocdat2000/-CS114.K21-/blob/master/CapstoneProject.ipynb\" target=\"_parent\"><img src=\"https://colab.research.google.com/assets/colab-badge.svg\" alt=\"Open In Colab\"/></a>"
      ]
    },
    {
      "cell_type": "markdown",
      "metadata": {
        "id": "W4j5OjnYomU2",
        "colab_type": "text"
      },
      "source": [
        "**Mô tả bài toán**: Bài toán nhận dạng giới tính là nam hay nữ thông qua ảnh khuôn mặt \n",
        " "
      ]
    },
    {
      "cell_type": "markdown",
      "metadata": {
        "id": "QnhaOdP9on7H",
        "colab_type": "text"
      },
      "source": [
        " + Input: Bức ảnh chụp khuôn mặt người ( không đeo đồ che khuôn mặt)\n"
      ]
    },
    {
      "cell_type": "markdown",
      "metadata": {
        "id": "fmOeWl28o1ga",
        "colab_type": "text"
      },
      "source": [
        "  + Output: Giới tính ( nam hoặc nữ )"
      ]
    },
    {
      "cell_type": "markdown",
      "metadata": {
        "id": "DfnUAS2Mozmo",
        "colab_type": "text"
      },
      "source": [
        "**Mô tả bộ dữ liệu:**"
      ]
    },
    {
      "cell_type": "markdown",
      "metadata": {
        "id": "gtefI370qth4",
        "colab_type": "text"
      },
      "source": [
        "  + Gồm 2000 bức ảnh được trích ra từ bộ dữ liệu CelebA ( 200000 bức ảnh của người nổi tiếng)\n"
      ]
    },
    {
      "cell_type": "markdown",
      "metadata": {
        "id": "0_050za2pWeD",
        "colab_type": "text"
      },
      "source": [
        "   + Tiền xử lí dữ liệu: Loại bỏ những bức ảnh chụp khuôn mặt góc hơn 45 độ => Tránh gây nhiễu khi model học"
      ]
    },
    {
      "cell_type": "markdown",
      "metadata": {
        "id": "i3Fy3475quhx",
        "colab_type": "text"
      },
      "source": [
        "   + Phân chia bộ dữ liệu: train 80% test 20%"
      ]
    },
    {
      "cell_type": "markdown",
      "metadata": {
        "id": "X-7pzvRUqqTh",
        "colab_type": "text"
      },
      "source": [
        "**Mô tả đặc trưng:**"
      ]
    },
    {
      "cell_type": "markdown",
      "metadata": {
        "id": "8iqbNYTUrmk0",
        "colab_type": "text"
      },
      "source": [
        " + Feature là giá trị các điểm ảnh được trích xuất ra từ các cột mốc trên khuôn mặt ( 2 mắt, mũi, miệng) bằng phương pháp Multi Task Convolution Neural Network "
      ]
    },
    {
      "cell_type": "markdown",
      "metadata": {
        "id": "s25pydHWrjJE",
        "colab_type": "text"
      },
      "source": [
        " + Là một mảng gồm 128 dòng, n cột"
      ]
    },
    {
      "cell_type": "markdown",
      "metadata": {
        "id": "3lJICC-0sKWw",
        "colab_type": "text"
      },
      "source": [
        "**Mô tả về thuật toán máy học:**"
      ]
    },
    {
      "cell_type": "markdown",
      "metadata": {
        "id": "LQCz8VLFsQgW",
        "colab_type": "text"
      },
      "source": [
        " + Sử dụng các thuật toán máy học phổ biến trong bài toán classification của Machine Learning:  LogisticRegression, "
      ]
    },
    {
      "cell_type": "markdown",
      "metadata": {
        "id": "4nDmU4K9sf7N",
        "colab_type": "text"
      },
      "source": [
        ""
      ]
    }
  ]
}