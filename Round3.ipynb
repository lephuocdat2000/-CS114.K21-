{
  "nbformat": 4,
  "nbformat_minor": 0,
  "metadata": {
    "colab": {
      "name": "Untitled18.ipynb",
      "provenance": [],
      "authorship_tag": "ABX9TyOg37j5nAf2pXGpPuTfgSZz",
      "include_colab_link": true
    },
    "kernelspec": {
      "name": "python3",
      "display_name": "Python 3"
    }
  },
  "cells": [
    {
      "cell_type": "markdown",
      "metadata": {
        "id": "view-in-github",
        "colab_type": "text"
      },
      "source": [
        "<a href=\"https://colab.research.google.com/github/lephuocdat2000/-CS114.K21-/blob/master/Round3.ipynb\" target=\"_parent\"><img src=\"https://colab.research.google.com/assets/colab-badge.svg\" alt=\"Open In Colab\"/></a>"
      ]
    },
    {
      "cell_type": "code",
      "metadata": {
        "id": "JHEs7bGR0MhI",
        "colab_type": "code",
        "colab": {
          "base_uri": "https://localhost:8080/",
          "height": 529
        },
        "outputId": "5b1a14a2-fc77-439b-d8db-b67703f25088"
      },
      "source": [
        "import pandas as pd\n",
        "import numpy as np\n",
        "import seaborn as sns\n",
        "import matplotlib\n",
        "import matplotlib.pyplot as plt\n",
        "from pandas.plotting import scatter_matrix\n",
        "from matplotlib import pyplot \n",
        "from sklearn.model_selection import train_test_split\n",
        "from sklearn import preprocessing \n",
        "from sklearn.linear_model import LinearRegression\n",
        "from sklearn.preprocessing import PolynomialFeatures\n",
        "from sklearn.pipeline import Pipeline\n",
        "from sklearn.metrics import accuracy_score\n",
        "from sklearn.metrics import r2_score\n",
        "!wget https://cs.uit.edu.vn/data3.txt\n",
        "!ls\n",
        "data=pd.read_csv('data3.txt',header=None)\n",
        "data.columns=['Complexity','Timing']\n",
        "plt.scatter(data['Complexity'],data['Timing'])\n",
        "data=data.assign(Square=np.power(data['Complexity'],2),Logarit=np.log2(data['Complexity'],where=(data['Complexity']!=0))*data['Complexity'])\n",
        "data=data[['Complexity','Square','Logarit','Timing']]\n",
        "x=data[['Complexity','Square','Logarit']]\n",
        "y=data[['Timing']]\n",
        "X_train,X_test,y_train,y_test=train_test_split(x,y,test_size=0.2,random_state=1,)\n",
        "model=LinearRegression().fit(X_train.values,y_train.values)\n",
        "print(\"Slope: \",model.coef_)\n",
        "print(\"Intercept: \",model.intercept_)\n",
        "y_fit=model.predict(X_train.values)\n",
        "plt.scatter(X_train['Complexity'],y_train)\n",
        "plt.plot(X_train['Complexity'],y_fit,'go')"
      ],
      "execution_count": 13,
      "outputs": [
        {
          "output_type": "stream",
          "text": [
            "--2020-06-12 09:54:38--  https://cs.uit.edu.vn/data3.txt\n",
            "Resolving cs.uit.edu.vn (cs.uit.edu.vn)... 118.69.123.142\n",
            "Connecting to cs.uit.edu.vn (cs.uit.edu.vn)|118.69.123.142|:443... connected.\n",
            "HTTP request sent, awaiting response... 200 OK\n",
            "Length: 178891 (175K) [text/plain]\n",
            "Saving to: ‘data3.txt.3’\n",
            "\n",
            "\rdata3.txt.3           0%[                    ]       0  --.-KB/s               \rdata3.txt.3         100%[===================>] 174.70K  --.-KB/s    in 0.08s   \n",
            "\n",
            "2020-06-12 09:54:38 (2.20 MB/s) - ‘data3.txt.3’ saved [178891/178891]\n",
            "\n",
            "data3.txt  data3.txt.1\tdata3.txt.2  data3.txt.3  sample_data\n",
            "Slope:  [[ 6.34826082e-07  6.52316668e-16 -2.21298109e-08]]\n",
            "Intercept:  [-0.50187066]\n"
          ],
          "name": "stdout"
        },
        {
          "output_type": "execute_result",
          "data": {
            "text/plain": [
              "[<matplotlib.lines.Line2D at 0x7f895b77e898>]"
            ]
          },
          "metadata": {
            "tags": []
          },
          "execution_count": 13
        },
        {
          "output_type": "display_data",
          "data": {
            "image/png": "[encoded data removed]",
            "text/plain": [
              "<Figure size 432x288 with 1 Axes>"
            ]
          },
          "metadata": {
            "tags": [],
            "needs_background": "light"
          }
        }
      ]
    },
    {
      "cell_type": "code",
      "metadata": {
        "id": "w-hNIWd81YXh",
        "colab_type": "code",
        "colab": {
          "base_uri": "https://localhost:8080/",
          "height": 294
        },
        "outputId": "e9c98ec8-730c-4ee3-ddc0-6175b8a3cca0"
      },
      "source": [
        "y_predict=model.predict(X_test)\n",
        "plt.scatter(X_test,y_test)\n",
        "plt.plot(X_test,y_predict,'go')"
      ],
      "execution_count": 11,
      "outputs": [
        {
          "output_type": "execute_result",
          "data": {
            "text/plain": [
              "[<matplotlib.lines.Line2D at 0x7f895ba3a0b8>]"
            ]
          },
          "metadata": {
            "tags": []
          },
          "execution_count": 11
        },
        {
          "output_type": "display_data",
          "data": {
            "image/png": "[encoded data removed]",
            "text/plain": [
              "<Figure size 432x288 with 1 Axes>"
            ]
          },
          "metadata": {
            "tags": [],
            "needs_background": "light"
          }
        }
      ]
    },
    {
      "cell_type": "code",
      "metadata": {
        "id": "MW5HdnLb1fbP",
        "colab_type": "code",
        "colab": {
          "base_uri": "https://localhost:8080/",
          "height": 50
        },
        "outputId": "4ed362c7-4a90-412d-d9b9-36540722a75b"
      },
      "source": [
        "print(model.score(y_test,y_predict))\n",
        "r2_score(y_test, y_predict)\n"
      ],
      "execution_count": 12,
      "outputs": [
        {
          "output_type": "stream",
          "text": [
            "-27.025375308354942\n"
          ],
          "name": "stdout"
        },
        {
          "output_type": "execute_result",
          "data": {
            "text/plain": [
              "0.9897290008911028"
            ]
          },
          "metadata": {
            "tags": []
          },
          "execution_count": 12
        }
      ]
    },
    {
      "cell_type": "markdown",
      "metadata": {
        "id": "YVKue0XZ7AOm",
        "colab_type": "text"
      },
      "source": [
        "Kết quả tệ hơn vì hệ số xác định R^2 square thấp hơn so với Round2(-3)"
      ]
    },
    {
      "cell_type": "markdown",
      "metadata": {
        "id": "hVMaIUon8KSI",
        "colab_type": "text"
      },
      "source": [
        "Vấn đề ở đây là có quá nhiều điểm dữ liệu phân tán so với model xây dựng được trên bộ dữ liệu"
      ]
    },
    {
      "cell_type": "markdown",
      "metadata": {
        "id": "nLcyqO368d8I",
        "colab_type": "text"
      },
      "source": [
        "Xây dựng model mới với việc thêm 2 biết là nlog2n và nsquare"
      ]
    },
    {
      "cell_type": "code",
      "metadata": {
        "id": "4P7lCBbk8pEQ",
        "colab_type": "code",
        "colab": {}
      },
      "source": [
        ""
      ],
      "execution_count": 0,
      "outputs": []
    }
  ]
}