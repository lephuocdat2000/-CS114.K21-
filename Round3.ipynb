{
  "nbformat": 4,
  "nbformat_minor": 0,
  "metadata": {
    "colab": {
      "name": "Untitled18.ipynb",
      "provenance": [],
      "authorship_tag": "ABX9TyNvp49jpj5T9Tt5kaE9rX4/",
      "include_colab_link": true
    },
    "kernelspec": {
      "name": "python3",
      "display_name": "Python 3"
    }
  },
  "cells": [
    {
      "cell_type": "markdown",
      "metadata": {
        "id": "view-in-github",
        "colab_type": "text"
      },
      "source": [
        "<a href=\"https://colab.research.google.com/github/lephuocdat2000/-CS114.K21-/blob/master/Round3.ipynb\" target=\"_parent\"><img src=\"https://colab.research.google.com/assets/colab-badge.svg\" alt=\"Open In Colab\"/></a>"
      ]
    },
    {
      "cell_type": "code",
      "metadata": {
        "id": "JHEs7bGR0MhI",
        "colab_type": "code",
        "outputId": "bfed61e0-1389-4998-95cb-c923f59cda2e",
        "colab": {
          "base_uri": "https://localhost:8080/",
          "height": 234
        }
      },
      "source": [
        "import pandas as pd\n",
        "import numpy as np\n",
        "import seaborn as sns\n",
        "import matplotlib\n",
        "import matplotlib.pyplot as plt\n",
        "from pandas.plotting import scatter_matrix\n",
        "from matplotlib import pyplot \n",
        "from sklearn.model_selection import train_test_split\n",
        "from sklearn import preprocessing \n",
        "from sklearn.linear_model import LinearRegression\n",
        "from sklearn.preprocessing import PolynomialFeatures\n",
        "from sklearn.metrics import r2_score\n",
        "from sklearn.metrics import mean_squared_error, mean_absolute_error\n",
        "!wget https://cs.uit.edu.vn/data3.txt\n",
        "!ls"
      ],
      "execution_count": 16,
      "outputs": [
        {
          "output_type": "stream",
          "text": [
            "--2020-06-14 07:26:42--  https://cs.uit.edu.vn/data3.txt\n",
            "Resolving cs.uit.edu.vn (cs.uit.edu.vn)... 118.69.123.142\n",
            "Connecting to cs.uit.edu.vn (cs.uit.edu.vn)|118.69.123.142|:443... connected.\n",
            "HTTP request sent, awaiting response... 200 OK\n",
            "Length: 178891 (175K) [text/plain]\n",
            "Saving to: ‘data3.txt.7’\n",
            "\n",
            "data3.txt.7         100%[===================>] 174.70K   557KB/s    in 0.3s    \n",
            "\n",
            "2020-06-14 07:26:43 (557 KB/s) - ‘data3.txt.7’ saved [178891/178891]\n",
            "\n",
            "data3.txt    data3.txt.2  data3.txt.4  data3.txt.6  sample_data\n",
            "data3.txt.1  data3.txt.3  data3.txt.5  data3.txt.7\n"
          ],
          "name": "stdout"
        }
      ]
    },
    {
      "cell_type": "code",
      "metadata": {
        "id": "67VqFVBIuHPj",
        "colab_type": "code",
        "colab": {}
      },
      "source": [
        "data=pd.read_csv('data3.txt',header=None)\n",
        "data.columns=['Complexity','Timing']\n",
        "x=data[['Complexity']]\n",
        "y=data[['Timing']]\n",
        "X_train,X_test,y_train,y_test=train_test_split(x,y,test_size=0.2,random_state=1,)"
      ],
      "execution_count": 0,
      "outputs": []
    },
    {
      "cell_type": "code",
      "metadata": {
        "id": "7q61Ke881rO8",
        "colab_type": "code",
        "colab": {
          "base_uri": "https://localhost:8080/",
          "height": 328
        },
        "outputId": "3f4d8cde-02b6-48dc-cb68-7237c2eb00ad"
      },
      "source": [
        "model=LinearRegression().fit(X_train,y_train)\n",
        "print(\"Slope: \",model.coef_)\n",
        "print(\"Intercept: \",model.intercept_)\n",
        "y_fit=model.predict(X_train)\n",
        "plt.scatter(X_train,y_train)\n",
        "plt.plot(X_train,y_fit,'go')"
      ],
      "execution_count": 25,
      "outputs": [
        {
          "output_type": "stream",
          "text": [
            "Slope:  [[9.27290489e-08]]\n",
            "Intercept:  [-0.13820456]\n"
          ],
          "name": "stdout"
        },
        {
          "output_type": "execute_result",
          "data": {
            "text/plain": [
              "[<matplotlib.lines.Line2D at 0x7fcdfb6b1cc0>]"
            ]
          },
          "metadata": {
            "tags": []
          },
          "execution_count": 25
        },
        {
          "output_type": "display_data",
          "data": {
            "image/png": "[encoded data removed]",
            "text/plain": [
              "<Figure size 432x288 with 1 Axes>"
            ]
          },
          "metadata": {
            "tags": [],
            "needs_background": "light"
          }
        }
      ]
    },
    {
      "cell_type": "code",
      "metadata": {
        "id": "w-hNIWd81YXh",
        "colab_type": "code",
        "outputId": "61575288-42c4-4300-c8f8-c4d6680efe17",
        "colab": {
          "base_uri": "https://localhost:8080/",
          "height": 294
        }
      },
      "source": [
        "y_predict=model.predict(X_test)\n",
        "plt.scatter(X_test,y_test)\n",
        "plt.plot(X_test,y_predict,'go')"
      ],
      "execution_count": 127,
      "outputs": [
        {
          "output_type": "execute_result",
          "data": {
            "text/plain": [
              "[<matplotlib.lines.Line2D at 0x7fcdfa6e1d68>]"
            ]
          },
          "metadata": {
            "tags": []
          },
          "execution_count": 127
        },
        {
          "output_type": "display_data",
          "data": {
            "image/png": "[encoded data removed]",
            "text/plain": [
              "<Figure size 432x288 with 1 Axes>"
            ]
          },
          "metadata": {
            "tags": [],
            "needs_background": "light"
          }
        }
      ]
    },
    {
      "cell_type": "code",
      "metadata": {
        "id": "xbrvt6oeucr2",
        "colab_type": "code",
        "colab": {
          "base_uri": "https://localhost:8080/",
          "height": 33
        },
        "outputId": "3dc563eb-407a-4900-9755-3630dba79eec"
      },
      "source": [
        "def Prediction(x,train=X_train,model=model):\n",
        "  # squarex=np.power(x,2)\n",
        "  #log2x=np.log2(x,where=(x!=0))*x\n",
        "   arr=np.array([[x]])\n",
        "   pred=model.predict(arr)\n",
        "   print(\"Thoi gian du tinh cua thuat toan voi do phuc tap \",x,\" la: \",pred[0][0])\n",
        "Prediction(39546552)"
      ],
      "execution_count": 31,
      "outputs": [
        {
          "output_type": "stream",
          "text": [
            "Thoi gian du tinh cua thuat toan voi do phuc tap  39546552  la:  3.5289095908557067\n"
          ],
          "name": "stdout"
        }
      ]
    },
    {
      "cell_type": "markdown",
      "metadata": {
        "id": "cUaEqAU9tCqt",
        "colab_type": "text"
      },
      "source": [
        "Đánh giá model"
      ]
    },
    {
      "cell_type": "markdown",
      "metadata": {
        "id": "WMbMQYQCujaQ",
        "colab_type": "text"
      },
      "source": [
        "Hệ số R square:"
      ]
    },
    {
      "cell_type": "code",
      "metadata": {
        "id": "MW5HdnLb1fbP",
        "colab_type": "code",
        "outputId": "e1c150b3-f0a0-4fd7-efbc-ef9e6dfe07b4",
        "colab": {
          "base_uri": "https://localhost:8080/",
          "height": 33
        }
      },
      "source": [
        "r2_score(y_test,y_predict)"
      ],
      "execution_count": 20,
      "outputs": [
        {
          "output_type": "execute_result",
          "data": {
            "text/plain": [
              "0.9897290008911028"
            ]
          },
          "metadata": {
            "tags": []
          },
          "execution_count": 20
        }
      ]
    },
    {
      "cell_type": "markdown",
      "metadata": {
        "id": "wuoR9uD9unRO",
        "colab_type": "text"
      },
      "source": [
        "Mean Square error"
      ]
    },
    {
      "cell_type": "code",
      "metadata": {
        "id": "sR8GeeBKs6Fd",
        "colab_type": "code",
        "outputId": "5a1d1d81-0654-40f3-c8c1-a3a3110b82c9",
        "colab": {
          "base_uri": "https://localhost:8080/",
          "height": 33
        }
      },
      "source": [
        "test_mse = mean_squared_error(y_test, y_predict,)\n",
        "test_mse"
      ],
      "execution_count": 21,
      "outputs": [
        {
          "output_type": "execute_result",
          "data": {
            "text/plain": [
              "0.0029732305247697826"
            ]
          },
          "metadata": {
            "tags": []
          },
          "execution_count": 21
        }
      ]
    },
    {
      "cell_type": "markdown",
      "metadata": {
        "id": "MSxifuQ9vHs1",
        "colab_type": "text"
      },
      "source": [
        "Kết quả tệ hơn so với Round 2 ( R square thấp hơn (Round 2 là 0.99...)  và mean square error cao hơn nhiều (Round2 là 0.00014...)) "
      ]
    },
    {
      "cell_type": "markdown",
      "metadata": {
        "id": "8SwTvaRVFgbg",
        "colab_type": "text"
      },
      "source": [
        "Vấn đề ở đây là ở tập training set mới có khá nhiều data point nằm cách xa bộ dữ liệu tập trung gây sai lệch cho model trong việc tính toán slope và intercept sao cho cost function là thấp nhất "
      ]
    },
    {
      "cell_type": "markdown",
      "metadata": {
        "id": "nLcyqO368d8I",
        "colab_type": "text"
      },
      "source": [
        "Xây dựng model mới với việc thêm 2 features là nlog2n và nsquare"
      ]
    },
    {
      "cell_type": "code",
      "metadata": {
        "id": "4P7lCBbk8pEQ",
        "colab_type": "code",
        "colab": {
          "base_uri": "https://localhost:8080/",
          "height": 328
        },
        "outputId": "0e73d079-f529-4861-fa68-9c42f8b33dac"
      },
      "source": [
        "add_data=data.assign(Square=np.power(new_data['Complexity'],2),Logarit=(np.log2(new_data['Complexity'],where=(new_data['Complexity']!=0)))*new_data['Complexity'])\n",
        "new_x=add_data[['Complexity','Square','Logarit']]\n",
        "new_X_train,new_X_test,new_y_train,new_y_test=train_test_split(new_x,y,test_size=0.2,random_state=1,)\n",
        "new_model=LinearRegression(normalize=True).fit(new_X_train,new_y_train)\n",
        "print(\"Slope: \",new_model.coef_)\n",
        "print(\"Intercept: \",new_model.intercept_)\n",
        "new_y_fit=new_model.predict(new_X_train)\n",
        "plt.scatter(new_X_train['Complexity'],new_y_train)\n",
        "plt.plot(new_X_train['Complexity'],new_y_fit,'go')"
      ],
      "execution_count": 132,
      "outputs": [
        {
          "output_type": "stream",
          "text": [
            "Slope:  [[ 6.34826082e-07  6.52316668e-16 -2.21298109e-08]]\n",
            "Intercept:  [-0.50187066]\n"
          ],
          "name": "stdout"
        },
        {
          "output_type": "execute_result",
          "data": {
            "text/plain": [
              "[<matplotlib.lines.Line2D at 0x7fcdfa5591d0>]"
            ]
          },
          "metadata": {
            "tags": []
          },
          "execution_count": 132
        },
        {
          "output_type": "display_data",
          "data": {
            "image/png": "[encoded data removed]",
            "text/plain": [
              "<Figure size 432x288 with 1 Axes>"
            ]
          },
          "metadata": {
            "tags": [],
            "needs_background": "light"
          }
        }
      ]
    },
    {
      "cell_type": "code",
      "metadata": {
        "id": "wrbXFV6hV7v4",
        "colab_type": "code",
        "colab": {
          "base_uri": "https://localhost:8080/",
          "height": 404
        },
        "outputId": "6b73f747-3902-4de5-b9fb-6ff195c288bd"
      },
      "source": [
        "new_X_test"
      ],
      "execution_count": 114,
      "outputs": [
        {
          "output_type": "execute_result",
          "data": {
            "text/html": [
              "<div>\n",
              "<style scoped>\n",
              "    .dataframe tbody tr th:only-of-type {\n",
              "        vertical-align: middle;\n",
              "    }\n",
              "\n",
              "    .dataframe tbody tr th {\n",
              "        vertical-align: top;\n",
              "    }\n",
              "\n",
              "    .dataframe thead th {\n",
              "        text-align: right;\n",
              "    }\n",
              "</style>\n",
              "<table border=\"1\" class=\"dataframe\">\n",
              "  <thead>\n",
              "    <tr style=\"text-align: right;\">\n",
              "      <th></th>\n",
              "      <th>Complexity</th>\n",
              "      <th>Square</th>\n",
              "      <th>Logarit</th>\n",
              "      <th>ThirdFunc</th>\n",
              "    </tr>\n",
              "  </thead>\n",
              "  <tbody>\n",
              "    <tr>\n",
              "      <th>286</th>\n",
              "      <td>36640808</td>\n",
              "      <td>1342548810892864</td>\n",
              "      <td>9.206717e+08</td>\n",
              "      <td>-5393234029635765760</td>\n",
              "    </tr>\n",
              "    <tr>\n",
              "      <th>674</th>\n",
              "      <td>21258818</td>\n",
              "      <td>451937342757124</td>\n",
              "      <td>5.174728e+08</td>\n",
              "      <td>-3099945325359072504</td>\n",
              "    </tr>\n",
              "    <tr>\n",
              "      <th>7533</th>\n",
              "      <td>39546552</td>\n",
              "      <td>1563929775088704</td>\n",
              "      <td>9.980383e+08</td>\n",
              "      <td>-3902704254389219840</td>\n",
              "    </tr>\n",
              "    <tr>\n",
              "      <th>6433</th>\n",
              "      <td>25624419</td>\n",
              "      <td>656610849087561</td>\n",
              "      <td>6.306430e+08</td>\n",
              "      <td>1840921742319678267</td>\n",
              "    </tr>\n",
              "    <tr>\n",
              "      <th>1141</th>\n",
              "      <td>36454559</td>\n",
              "      <td>1328934871884481</td>\n",
              "      <td>9.157238e+08</td>\n",
              "      <td>4584756708971255263</td>\n",
              "    </tr>\n",
              "    <tr>\n",
              "      <th>...</th>\n",
              "      <td>...</td>\n",
              "      <td>...</td>\n",
              "      <td>...</td>\n",
              "      <td>...</td>\n",
              "    </tr>\n",
              "    <tr>\n",
              "      <th>507</th>\n",
              "      <td>37659398</td>\n",
              "      <td>1418230257722404</td>\n",
              "      <td>9.477555e+08</td>\n",
              "      <td>6373637821433824472</td>\n",
              "    </tr>\n",
              "    <tr>\n",
              "      <th>3632</th>\n",
              "      <td>26088449</td>\n",
              "      <td>680607171225601</td>\n",
              "      <td>6.427387e+08</td>\n",
              "      <td>-8229067428939023359</td>\n",
              "    </tr>\n",
              "    <tr>\n",
              "      <th>8791</th>\n",
              "      <td>31552674</td>\n",
              "      <td>995571236550276</td>\n",
              "      <td>7.860168e+08</td>\n",
              "      <td>-1870486879623164024</td>\n",
              "    </tr>\n",
              "    <tr>\n",
              "      <th>612</th>\n",
              "      <td>23069803</td>\n",
              "      <td>532215810458809</td>\n",
              "      <td>5.642759e+08</td>\n",
              "      <td>-7417652320498131629</td>\n",
              "    </tr>\n",
              "    <tr>\n",
              "      <th>8427</th>\n",
              "      <td>30588875</td>\n",
              "      <td>935679273765625</td>\n",
              "      <td>7.606384e+08</td>\n",
              "      <td>-7970457089741686157</td>\n",
              "    </tr>\n",
              "  </tbody>\n",
              "</table>\n",
              "<p>2118 rows × 4 columns</p>\n",
              "</div>"
            ],
            "text/plain": [
              "      Complexity            Square       Logarit            ThirdFunc\n",
              "286     36640808  1342548810892864  9.206717e+08 -5393234029635765760\n",
              "674     21258818   451937342757124  5.174728e+08 -3099945325359072504\n",
              "7533    39546552  1563929775088704  9.980383e+08 -3902704254389219840\n",
              "6433    25624419   656610849087561  6.306430e+08  1840921742319678267\n",
              "1141    36454559  1328934871884481  9.157238e+08  4584756708971255263\n",
              "...          ...               ...           ...                  ...\n",
              "507     37659398  1418230257722404  9.477555e+08  6373637821433824472\n",
              "3632    26088449   680607171225601  6.427387e+08 -8229067428939023359\n",
              "8791    31552674   995571236550276  7.860168e+08 -1870486879623164024\n",
              "612     23069803   532215810458809  5.642759e+08 -7417652320498131629\n",
              "8427    30588875   935679273765625  7.606384e+08 -7970457089741686157\n",
              "\n",
              "[2118 rows x 4 columns]"
            ]
          },
          "metadata": {
            "tags": []
          },
          "execution_count": 114
        }
      ]
    },
    {
      "cell_type": "code",
      "metadata": {
        "id": "ASGt85V1JHSf",
        "colab_type": "code",
        "colab": {
          "base_uri": "https://localhost:8080/",
          "height": 294
        },
        "outputId": "915d9a0a-e4f3-49d4-ff8f-567b03b8d0f9"
      },
      "source": [
        "new_y_predict=new_model.predict(new_X_test)\n",
        "plt.scatter(new_X_test['Complexity'],new_y_test)\n",
        "plt.plot(new_X_test['Complexity'],new_y_predict,'go')"
      ],
      "execution_count": 126,
      "outputs": [
        {
          "output_type": "execute_result",
          "data": {
            "text/plain": [
              "[<matplotlib.lines.Line2D at 0x7fcdfa7bd3c8>]"
            ]
          },
          "metadata": {
            "tags": []
          },
          "execution_count": 126
        },
        {
          "output_type": "display_data",
          "data": {
            "image/png": "[encoded data removed]",
            "text/plain": [
              "<Figure size 432x288 with 1 Axes>"
            ]
          },
          "metadata": {
            "tags": [],
            "needs_background": "light"
          }
        }
      ]
    },
    {
      "cell_type": "code",
      "metadata": {
        "id": "vEACA2-YJb1N",
        "colab_type": "code",
        "colab": {
          "base_uri": "https://localhost:8080/",
          "height": 33
        },
        "outputId": "ab686a00-908a-4b37-e1e9-22b43524e2c4"
      },
      "source": [
        "new_score= r2_score(new_y_test,new_y_predict)\n",
        "new_score - r2_score(y_test,y_predict)"
      ],
      "execution_count": 106,
      "outputs": [
        {
          "output_type": "execute_result",
          "data": {
            "text/plain": [
              "3.662728625508649e-06"
            ]
          },
          "metadata": {
            "tags": []
          },
          "execution_count": 106
        }
      ]
    },
    {
      "cell_type": "code",
      "metadata": {
        "id": "GC20KKzEJr-S",
        "colab_type": "code",
        "colab": {
          "base_uri": "https://localhost:8080/",
          "height": 33
        },
        "outputId": "050e2d32-29b7-450e-ac09-8f89b9975c20"
      },
      "source": [
        "new_test_mse = mean_squared_error(new_y_test,new_y_predict)\n",
        "new_test_mse - test_mse"
      ],
      "execution_count": 107,
      "outputs": [
        {
          "output_type": "execute_result",
          "data": {
            "text/plain": [
              "-1.060280157548412e-06"
            ]
          },
          "metadata": {
            "tags": []
          },
          "execution_count": 107
        }
      ]
    },
    {
      "cell_type": "markdown",
      "metadata": {
        "id": "2Bol2ZKQMbvq",
        "colab_type": "text"
      },
      "source": [
        "Với việc thêm 2 cột nlog2n và n^2 thì r square có cao hơn nhưng rất ít và mean square error còn thấp hơn ban đầu mặc dù chênh lệch cũng rất ít => mô hình này hiệu suất tương đương mô hình cũ "
      ]
    },
    {
      "cell_type": "code",
      "metadata": {
        "id": "byIOYQK7KMfR",
        "colab_type": "code",
        "colab": {}
      },
      "source": [
        "def New_Prediction(x,train=new_X_train,model=new_model):\n",
        "   squarex=np.power(x,2)\n",
        "   xlog2x=(np.log2(x,where=(x!=0)))*x\n",
        "   arr=np.array([[x,squarex,xlog2x]])\n",
        "   pred=model.predict(arr)\n",
        "   print(\"Thoi gian du tinh cua thuat toan voi do phuc tap \",x,\" la: \",pred[0][0])"
      ],
      "execution_count": 0,
      "outputs": []
    },
    {
      "cell_type": "code",
      "metadata": {
        "id": "kJbynJ3-Kf8_",
        "colab_type": "code",
        "colab": {
          "base_uri": "https://localhost:8080/",
          "height": 50
        },
        "outputId": "0310170f-f181-4059-eb52-990a4ecd7794"
      },
      "source": [
        "New_Prediction(21258818   )\n",
        "Prediction(21258818   )"
      ],
      "execution_count": 110,
      "outputs": [
        {
          "output_type": "stream",
          "text": [
            "Thoi gian du tinh cua thuat toan voi do phuc tap  21258818  la:  1.8375523591649041\n",
            "Thoi gian du tinh cua thuat toan voi do phuc tap  21258818  la:  1.8331054110228693\n"
          ],
          "name": "stdout"
        }
      ]
    },
    {
      "cell_type": "code",
      "metadata": {
        "id": "D4c-1JmqLYea",
        "colab_type": "code",
        "colab": {
          "base_uri": "https://localhost:8080/",
          "height": 468
        },
        "outputId": "7d5e4f3f-9c87-4bb5-8b8a-fba2bfeef9e8"
      },
      "source": [
        "new_X_test,new_y_test\n"
      ],
      "execution_count": 81,
      "outputs": [
        {
          "output_type": "execute_result",
          "data": {
            "text/plain": [
              "(      Complexity            Square       Logarit\n",
              " 286     36640808  1342548810892864  9.206717e+08\n",
              " 674     21258818   451937342757124  5.174728e+08\n",
              " 7533    39546552  1563929775088704  9.980383e+08\n",
              " 6433    25624419   656610849087561  6.306430e+08\n",
              " 1141    36454559  1328934871884481  9.157238e+08\n",
              " ...          ...               ...           ...\n",
              " 507     37659398  1418230257722404  9.477555e+08\n",
              " 3632    26088449   680607171225601  6.427387e+08\n",
              " 8791    31552674   995571236550276  7.860168e+08\n",
              " 612     23069803   532215810458809  5.642759e+08\n",
              " 8427    30588875   935679273765625  7.606384e+08\n",
              " \n",
              " [2118 rows x 3 columns],        Timing\n",
              " 286   3.32445\n",
              " 674   1.82632\n",
              " 7533  3.51381\n",
              " 6433  2.24894\n",
              " 1141  3.30729\n",
              " ...       ...\n",
              " 507   3.32236\n",
              " 3632  2.25782\n",
              " 8791  2.87175\n",
              " 612   1.98104\n",
              " 8427  2.66272\n",
              " \n",
              " [2118 rows x 1 columns])"
            ]
          },
          "metadata": {
            "tags": []
          },
          "execution_count": 81
        }
      ]
    }
  ]
}