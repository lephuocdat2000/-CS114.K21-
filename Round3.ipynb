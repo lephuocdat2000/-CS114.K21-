{
  "nbformat": 4,
  "nbformat_minor": 0,
  "metadata": {
    "colab": {
      "name": "Untitled18.ipynb",
      "provenance": [],
      "authorship_tag": "ABX9TyPLnS7bYw05Q9uWygYL33n/",
      "include_colab_link": true
    },
    "kernelspec": {
      "name": "python3",
      "display_name": "Python 3"
    }
  },
  "cells": [
    {
      "cell_type": "markdown",
      "metadata": {
        "id": "view-in-github",
        "colab_type": "text"
      },
      "source": [
        "<a href=\"https://colab.research.google.com/github/lephuocdat2000/-CS114.K21-/blob/master/Round3.ipynb\" target=\"_parent\"><img src=\"https://colab.research.google.com/assets/colab-badge.svg\" alt=\"Open In Colab\"/></a>"
      ]
    },
    {
      "cell_type": "code",
      "metadata": {
        "id": "JHEs7bGR0MhI",
        "colab_type": "code",
        "colab": {
          "base_uri": "https://localhost:8080/",
          "height": 217
        },
        "outputId": "af6b6b39-bd14-4c8a-cc94-81ee483134ff"
      },
      "source": [
        "import pandas as pd\n",
        "import numpy as np\n",
        "import seaborn as sns\n",
        "import matplotlib\n",
        "import matplotlib.pyplot as plt\n",
        "from pandas.plotting import scatter_matrix\n",
        "from matplotlib import pyplot \n",
        "from sklearn.model_selection import train_test_split\n",
        "from sklearn import preprocessing \n",
        "from sklearn.linear_model import LinearRegression\n",
        "from sklearn.preprocessing import PolynomialFeatures\n",
        "from sklearn.metrics import r2_score\n",
        "from sklearn.metrics import mean_squared_error, mean_absolute_error\n",
        "!wget https://cs.uit.edu.vn/data3.txt\n",
        "!ls"
      ],
      "execution_count": 10,
      "outputs": [
        {
          "output_type": "stream",
          "text": [
            "--2020-06-19 07:22:03--  https://cs.uit.edu.vn/data3.txt\n",
            "Resolving cs.uit.edu.vn (cs.uit.edu.vn)... 118.69.123.142\n",
            "Connecting to cs.uit.edu.vn (cs.uit.edu.vn)|118.69.123.142|:443... connected.\n",
            "HTTP request sent, awaiting response... 200 OK\n",
            "Length: 178891 (175K) [text/plain]\n",
            "Saving to: ‘data3.txt.1’\n",
            "\n",
            "data3.txt.1         100%[===================>] 174.70K   379KB/s    in 0.5s    \n",
            "\n",
            "2020-06-19 07:22:05 (379 KB/s) - ‘data3.txt.1’ saved [178891/178891]\n",
            "\n",
            "data3.txt  data3.txt.1\tsample_data\n"
          ],
          "name": "stdout"
        }
      ]
    },
    {
      "cell_type": "code",
      "metadata": {
        "id": "67VqFVBIuHPj",
        "colab_type": "code",
        "colab": {
          "base_uri": "https://localhost:8080/",
          "height": 279
        },
        "outputId": "64177a22-fd2a-40c6-d114-c415199d9fe8"
      },
      "source": [
        "data=pd.read_csv('data3.txt',header=None)\n",
        "data.columns=['Complexity','Timing']\n",
        "x=data[['Complexity']]\n",
        "y=data[['Timing']]\n",
        "X_train,X_test,y_train,y_test=train_test_split(x,y,test_size=0.2,random_state=1,)\n",
        "plt.scatter(X_train,y_train)\n",
        "plt.ylabel(\"Time\")\n",
        "plt.xlabel(\"Complex\")\n",
        "plt.show()"
      ],
      "execution_count": 25,
      "outputs": [
        {
          "output_type": "display_data",
          "data": {
            "image/png": "[encoded data removed]",
            "text/plain": [
              "<Figure size 432x288 with 1 Axes>"
            ]
          },
          "metadata": {
            "tags": [],
            "needs_background": "light"
          }
        }
      ]
    },
    {
      "cell_type": "code",
      "metadata": {
        "id": "7q61Ke881rO8",
        "colab_type": "code",
        "colab": {
          "base_uri": "https://localhost:8080/",
          "height": 50
        },
        "outputId": "afb33d50-99be-4aa4-deee-4fb458a10579"
      },
      "source": [
        "model=LinearRegression().fit(X_train,y_train)\n",
        "print(\"Slope: \",model.coef_)\n",
        "print(\"Intercept: \",model.intercept_)\n",
        "y_fit=model.predict(X_train)\n",
        "y_predict=model.predict(X_test)"
      ],
      "execution_count": 18,
      "outputs": [
        {
          "output_type": "stream",
          "text": [
            "Slope:  [[9.27290489e-08]]\n",
            "Intercept:  [-0.13820456]\n"
          ],
          "name": "stdout"
        }
      ]
    },
    {
      "cell_type": "code",
      "metadata": {
        "id": "xbrvt6oeucr2",
        "colab_type": "code",
        "colab": {
          "base_uri": "https://localhost:8080/",
          "height": 33
        },
        "outputId": "97e05dd0-42d0-4e8a-a610-9a2496c5f05e"
      },
      "source": [
        "def Prediction(x,train=X_train,model=model):\n",
        "  # squarex=np.power(x,2)\n",
        "  #log2x=np.log2(x,where=(x!=0))*x\n",
        "   arr=np.array([[x]])\n",
        "   pred=model.predict(arr)\n",
        "   print(\"Thoi gian du tinh cua thuat toan voi do phuc tap \",x,\" la: \",pred[0][0])\n",
        "Prediction(39546552)"
      ],
      "execution_count": 19,
      "outputs": [
        {
          "output_type": "stream",
          "text": [
            "Thoi gian du tinh cua thuat toan voi do phuc tap  39546552  la:  3.5289095908557067\n"
          ],
          "name": "stdout"
        }
      ]
    },
    {
      "cell_type": "markdown",
      "metadata": {
        "id": "cUaEqAU9tCqt",
        "colab_type": "text"
      },
      "source": [
        "Đánh giá model"
      ]
    },
    {
      "cell_type": "markdown",
      "metadata": {
        "id": "WMbMQYQCujaQ",
        "colab_type": "text"
      },
      "source": [
        "Hệ số R square:"
      ]
    },
    {
      "cell_type": "code",
      "metadata": {
        "id": "MW5HdnLb1fbP",
        "colab_type": "code",
        "colab": {
          "base_uri": "https://localhost:8080/",
          "height": 33
        },
        "outputId": "4d02df84-464a-428e-f964-02ed52f6a25e"
      },
      "source": [
        "r2_score(y_test,y_predict)"
      ],
      "execution_count": 15,
      "outputs": [
        {
          "output_type": "execute_result",
          "data": {
            "text/plain": [
              "0.9897290008911028"
            ]
          },
          "metadata": {
            "tags": []
          },
          "execution_count": 15
        }
      ]
    },
    {
      "cell_type": "markdown",
      "metadata": {
        "id": "wuoR9uD9unRO",
        "colab_type": "text"
      },
      "source": [
        "Mean Square error"
      ]
    },
    {
      "cell_type": "code",
      "metadata": {
        "id": "sR8GeeBKs6Fd",
        "colab_type": "code",
        "colab": {
          "base_uri": "https://localhost:8080/",
          "height": 67
        },
        "outputId": "bb7dee0c-b2b1-4695-dbb0-f70b0509efa1"
      },
      "source": [
        "import math\n",
        "test_mse = mean_squared_error(y_test, y_predict,)\n",
        "print(math.sqrt(test_mse))\n",
        "mean_test=np.mean(y_test)\n",
        "print(mean_test)"
      ],
      "execution_count": 27,
      "outputs": [
        {
          "output_type": "stream",
          "text": [
            "0.05452733740766903\n",
            "Timing    2.641946\n",
            "dtype: float64\n"
          ],
          "name": "stdout"
        }
      ]
    },
    {
      "cell_type": "markdown",
      "metadata": {
        "id": "MSxifuQ9vHs1",
        "colab_type": "text"
      },
      "source": [
        "Kết quả tệ hơn so với Round 2 ( R square thấp hơn (Round 2 là 0.99...)  và mean square error cao hơn nhiều (Round2 là 0.00014...)) "
      ]
    },
    {
      "cell_type": "markdown",
      "metadata": {
        "id": "8SwTvaRVFgbg",
        "colab_type": "text"
      },
      "source": [
        "Vấn đề ở đây là ở tập training set mới có khá nhiều data point nằm cách xa bộ dữ liệu tập trung gây sai lệch cho model trong việc tính toán slope và intercept sao cho cost function là thấp nhất "
      ]
    },
    {
      "cell_type": "markdown",
      "metadata": {
        "id": "nLcyqO368d8I",
        "colab_type": "text"
      },
      "source": [
        "Xây dựng model mới với việc thêm 2 features là nlog2n và nsquare"
      ]
    },
    {
      "cell_type": "code",
      "metadata": {
        "id": "4P7lCBbk8pEQ",
        "colab_type": "code",
        "colab": {
          "base_uri": "https://localhost:8080/",
          "height": 50
        },
        "outputId": "3eca0d3d-9508-4a35-81af-8417f0a124d6"
      },
      "source": [
        "new_data=data.assign(Square=np.power(data['Complexity'],2),Logarit=np.log2(data['Complexity'],where=(data['Complexity']!=0))*data['Complexity'])\n",
        "add_data=data.assign(Square=np.power(new_data['Complexity'],2),Logarit=(np.log2(new_data['Complexity'],where=(new_data['Complexity']!=0)))*new_data['Complexity'])\n",
        "new_x=add_data[['Complexity','Square','Logarit']]\n",
        "new_X_train,new_X_test,new_y_train,new_y_test=train_test_split(new_x,y,test_size=0.2,random_state=1,)\n",
        "new_model=LinearRegression(normalize=True).fit(new_X_train,new_y_train)\n",
        "print(\"Slope: \",new_model.coef_)\n",
        "print(\"Intercept: \",new_model.intercept_)\n",
        "new_y_fit=new_model.predict(new_X_train)\n",
        "new_y_predict=new_model.predict(new_X_test)"
      ],
      "execution_count": 35,
      "outputs": [
        {
          "output_type": "stream",
          "text": [
            "Slope:  [[ 6.34826082e-07  6.52316668e-16 -2.21298109e-08]]\n",
            "Intercept:  [-0.50187066]\n"
          ],
          "name": "stdout"
        }
      ]
    },
    {
      "cell_type": "code",
      "metadata": {
        "id": "vEACA2-YJb1N",
        "colab_type": "code",
        "colab": {
          "base_uri": "https://localhost:8080/",
          "height": 33
        },
        "outputId": "012e96ca-842e-4380-ac10-2a9034d5e3a1"
      },
      "source": [
        "new_score= r2_score(new_y_test,new_y_predict)\n",
        "new_score - r2_score(y_test,y_predict)"
      ],
      "execution_count": 36,
      "outputs": [
        {
          "output_type": "execute_result",
          "data": {
            "text/plain": [
              "8.081489654143681e-07"
            ]
          },
          "metadata": {
            "tags": []
          },
          "execution_count": 36
        }
      ]
    },
    {
      "cell_type": "code",
      "metadata": {
        "id": "GC20KKzEJr-S",
        "colab_type": "code",
        "colab": {
          "base_uri": "https://localhost:8080/",
          "height": 33
        },
        "outputId": "b8135ec0-d1d2-409e-d6ed-ee7faa4276b1"
      },
      "source": [
        "new_test_mse = mean_squared_error(new_y_test,new_y_predict)\n",
        "new_test_mse - test_mse"
      ],
      "execution_count": 37,
      "outputs": [
        {
          "output_type": "execute_result",
          "data": {
            "text/plain": [
              "-2.3394152285196104e-07"
            ]
          },
          "metadata": {
            "tags": []
          },
          "execution_count": 37
        }
      ]
    },
    {
      "cell_type": "markdown",
      "metadata": {
        "id": "2Bol2ZKQMbvq",
        "colab_type": "text"
      },
      "source": [
        "Với việc thêm 2 cột nlog2n và n^2 thì r square có cao hơn nhưng rất ít và mean square error còn thấp hơn ban đầu mặc dù chênh lệch cũng rất ít => mô hình này hiệu suất tương đương mô hình cũ "
      ]
    },
    {
      "cell_type": "code",
      "metadata": {
        "id": "byIOYQK7KMfR",
        "colab_type": "code",
        "colab": {}
      },
      "source": [
        "def New_Prediction(x,train=new_X_train,model=new_model):\n",
        "   squarex=np.power(x,2)\n",
        "   xlog2x=(np.log2(x,where=(x!=0)))*x\n",
        "   arr=np.array([[x,squarex,xlog2x]])\n",
        "   pred=model.predict(arr)\n",
        "   print(\"Thoi gian du tinh cua thuat toan voi do phuc tap \",x,\" la: \",pred[0][0])"
      ],
      "execution_count": null,
      "outputs": []
    },
    {
      "cell_type": "code",
      "metadata": {
        "id": "kJbynJ3-Kf8_",
        "colab_type": "code",
        "colab": {}
      },
      "source": [
        "New_Prediction(21258818   )\n",
        "Prediction(21258818   )"
      ],
      "execution_count": null,
      "outputs": []
    },
    {
      "cell_type": "code",
      "metadata": {
        "id": "D4c-1JmqLYea",
        "colab_type": "code",
        "colab": {}
      },
      "source": [
        "new_X_test,new_y_test\n"
      ],
      "execution_count": null,
      "outputs": []
    }
  ]
}